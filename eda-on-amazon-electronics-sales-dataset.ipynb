{
 "cells": [
  {
   "cell_type": "markdown",
   "id": "f1a61322",
   "metadata": {
    "papermill": {
     "duration": 0.009193,
     "end_time": "2024-01-01T13:04:59.712041",
     "exception": false,
     "start_time": "2024-01-01T13:04:59.702848",
     "status": "completed"
    },
    "tags": []
   },
   "source": [
    "# Project:\n",
    "**Exploratory Data Analysis (EDA) on Amazon Electronics Sales Dataset**"
   ]
  },
  {
   "cell_type": "markdown",
   "id": "83e5511f",
   "metadata": {
    "papermill": {
     "duration": 0.00826,
     "end_time": "2024-01-01T13:04:59.728665",
     "exception": false,
     "start_time": "2024-01-01T13:04:59.720405",
     "status": "completed"
    },
    "tags": []
   },
   "source": [
    "# Objective:\n",
    "\n",
    "**Analyze Electronics sales dataset to derive insight and trends**"
   ]
  },
  {
   "cell_type": "code",
   "execution_count": 1,
   "id": "82522750",
   "metadata": {
    "_cell_guid": "b1076dfc-b9ad-4769-8c92-a6c4dae69d19",
    "_uuid": "8f2839f25d086af736a60e9eeb907d3b93b6e0e5",
    "execution": {
     "iopub.execute_input": "2024-01-01T13:04:59.749848Z",
     "iopub.status.busy": "2024-01-01T13:04:59.749454Z",
     "iopub.status.idle": "2024-01-01T13:05:00.224849Z",
     "shell.execute_reply": "2024-01-01T13:05:00.223323Z"
    },
    "papermill": {
     "duration": 0.49098,
     "end_time": "2024-01-01T13:05:00.228874",
     "exception": false,
     "start_time": "2024-01-01T13:04:59.737894",
     "status": "completed"
    },
    "tags": []
   },
   "outputs": [
    {
     "name": "stdout",
     "output_type": "stream",
     "text": [
      "/kaggle/input/amazon-products-dataset/Gaming Consoles.csv\n",
      "/kaggle/input/amazon-products-dataset/Car Electronics.csv\n",
      "/kaggle/input/amazon-products-dataset/Janitorial and Sanitation Supplies.csv\n",
      "/kaggle/input/amazon-products-dataset/All Electronics.csv\n",
      "/kaggle/input/amazon-products-dataset/All Books.csv\n",
      "/kaggle/input/amazon-products-dataset/Make-up.csv\n",
      "/kaggle/input/amazon-products-dataset/Travel Accessories.csv\n",
      "/kaggle/input/amazon-products-dataset/Indian Language Books.csv\n",
      "/kaggle/input/amazon-products-dataset/Car and Bike Care.csv\n",
      "/kaggle/input/amazon-products-dataset/Sunglasses.csv\n",
      "/kaggle/input/amazon-products-dataset/Bags and Luggage.csv\n",
      "/kaggle/input/amazon-products-dataset/Yoga.csv\n",
      "/kaggle/input/amazon-products-dataset/Sportswear.csv\n",
      "/kaggle/input/amazon-products-dataset/Fiction Books.csv\n",
      "/kaggle/input/amazon-products-dataset/Exam Central.csv\n",
      "/kaggle/input/amazon-products-dataset/Home Storage.csv\n",
      "/kaggle/input/amazon-products-dataset/Toys Gifting Store.csv\n",
      "/kaggle/input/amazon-products-dataset/All English.csv\n",
      "/kaggle/input/amazon-products-dataset/Amazon-Products.csv\n",
      "/kaggle/input/amazon-products-dataset/Air Conditioners.csv\n",
      "/kaggle/input/amazon-products-dataset/Shoes.csv\n",
      "/kaggle/input/amazon-products-dataset/Casual Shoes.csv\n",
      "/kaggle/input/amazon-products-dataset/Baby Products.csv\n",
      "/kaggle/input/amazon-products-dataset/Sports Collectibles.csv\n",
      "/kaggle/input/amazon-products-dataset/Wallets.csv\n",
      "/kaggle/input/amazon-products-dataset/Musical Instruments and Professional Audio.csv\n",
      "/kaggle/input/amazon-products-dataset/Gold and Diamond Jewellery.csv\n",
      "/kaggle/input/amazon-products-dataset/Nursing and Feeding.csv\n",
      "/kaggle/input/amazon-products-dataset/Home Furnishing.csv\n",
      "/kaggle/input/amazon-products-dataset/School Textbooks.csv\n",
      "/kaggle/input/amazon-products-dataset/All Hindi.csv\n",
      "/kaggle/input/amazon-products-dataset/Baby Bath Skin and Grooming.csv\n",
      "/kaggle/input/amazon-products-dataset/Coffee Tea and Beverages.csv\n",
      "/kaggle/input/amazon-products-dataset/Headphones.csv\n",
      "/kaggle/input/amazon-products-dataset/Furniture.csv\n",
      "/kaggle/input/amazon-products-dataset/Shirts.csv\n",
      "/kaggle/input/amazon-products-dataset/Subscribe and Save.csv\n",
      "/kaggle/input/amazon-products-dataset/Fitness Accessories.csv\n",
      "/kaggle/input/amazon-products-dataset/Formal Shoes.csv\n",
      "/kaggle/input/amazon-products-dataset/Cycling.csv\n",
      "/kaggle/input/amazon-products-dataset/Western Wear.csv\n",
      "/kaggle/input/amazon-products-dataset/Bedroom Linen.csv\n",
      "/kaggle/input/amazon-products-dataset/Gaming Accessories.csv\n",
      "/kaggle/input/amazon-products-dataset/Amazon Fashion.csv\n",
      "/kaggle/input/amazon-products-dataset/Home Entertainment Systems.csv\n",
      "/kaggle/input/amazon-products-dataset/Strollers and Prams.csv\n",
      "/kaggle/input/amazon-products-dataset/Refurbished and Open Box.csv\n",
      "/kaggle/input/amazon-products-dataset/Garden and Outdoors.csv\n",
      "/kaggle/input/amazon-products-dataset/Diapers.csv\n",
      "/kaggle/input/amazon-products-dataset/STEM Toys Store.csv\n",
      "/kaggle/input/amazon-products-dataset/Kids Clothing.csv\n",
      "/kaggle/input/amazon-products-dataset/All Car and Motorbike Products.csv\n",
      "/kaggle/input/amazon-products-dataset/All Sports Fitness and Outdoors.csv\n",
      "/kaggle/input/amazon-products-dataset/Film Songs.csv\n",
      "/kaggle/input/amazon-products-dataset/All Home and Kitchen.csv\n",
      "/kaggle/input/amazon-products-dataset/Speakers.csv\n",
      "/kaggle/input/amazon-products-dataset/Beauty and Grooming.csv\n",
      "/kaggle/input/amazon-products-dataset/Fashion and Silver Jewellery.csv\n",
      "/kaggle/input/amazon-products-dataset/Televisions.csv\n",
      "/kaggle/input/amazon-products-dataset/Cameras.csv\n",
      "/kaggle/input/amazon-products-dataset/Home Improvement.csv\n",
      "/kaggle/input/amazon-products-dataset/Blu-ray.csv\n",
      "/kaggle/input/amazon-products-dataset/Kitchen and Home Appliances.csv\n",
      "/kaggle/input/amazon-products-dataset/Health and Personal Care.csv\n",
      "/kaggle/input/amazon-products-dataset/Sports Shoes.csv\n",
      "/kaggle/input/amazon-products-dataset/Indoor Lighting.csv\n",
      "/kaggle/input/amazon-products-dataset/Indian Classical.csv\n",
      "/kaggle/input/amazon-products-dataset/Mens Fashion.csv\n",
      "/kaggle/input/amazon-products-dataset/Kindle eBooks.csv\n",
      "/kaggle/input/amazon-products-dataset/Snack Foods.csv\n",
      "/kaggle/input/amazon-products-dataset/Kitchen Storage and Containers.csv\n",
      "/kaggle/input/amazon-products-dataset/Strength Training.csv\n",
      "/kaggle/input/amazon-products-dataset/International Music.csv\n",
      "/kaggle/input/amazon-products-dataset/Video Games Deals.csv\n",
      "/kaggle/input/amazon-products-dataset/Textbooks.csv\n",
      "/kaggle/input/amazon-products-dataset/Fine Art.csv\n",
      "/kaggle/input/amazon-products-dataset/All Grocery and Gourmet Foods.csv\n",
      "/kaggle/input/amazon-products-dataset/Luxury Beauty.csv\n",
      "/kaggle/input/amazon-products-dataset/Kids Shoes.csv\n",
      "/kaggle/input/amazon-products-dataset/Jewellery.csv\n",
      "/kaggle/input/amazon-products-dataset/Jeans.csv\n",
      "/kaggle/input/amazon-products-dataset/Cricket.csv\n",
      "/kaggle/input/amazon-products-dataset/Kids Fashion.csv\n",
      "/kaggle/input/amazon-products-dataset/Baby Fashion.csv\n",
      "/kaggle/input/amazon-products-dataset/Sewing and Craft Supplies.csv\n",
      "/kaggle/input/amazon-products-dataset/Car Parts.csv\n",
      "/kaggle/input/amazon-products-dataset/Pantry.csv\n",
      "/kaggle/input/amazon-products-dataset/Car Accessories.csv\n",
      "/kaggle/input/amazon-products-dataset/All Music.csv\n",
      "/kaggle/input/amazon-products-dataset/Toys and Games.csv\n",
      "/kaggle/input/amazon-products-dataset/Amazon Pharmacy.csv\n",
      "/kaggle/input/amazon-products-dataset/Camping and Hiking.csv\n",
      "/kaggle/input/amazon-products-dataset/Ethnic Wear.csv\n",
      "/kaggle/input/amazon-products-dataset/Kids Watches.csv\n",
      "/kaggle/input/amazon-products-dataset/Heating and Cooling Appliances.csv\n",
      "/kaggle/input/amazon-products-dataset/Kitchen and Dining.csv\n",
      "/kaggle/input/amazon-products-dataset/Personal Care Appliances.csv\n",
      "/kaggle/input/amazon-products-dataset/Home Audio and Theater.csv\n",
      "/kaggle/input/amazon-products-dataset/Security Cameras.csv\n",
      "/kaggle/input/amazon-products-dataset/Fashion Sales and Deals.csv\n",
      "/kaggle/input/amazon-products-dataset/Lab and Scientific.csv\n",
      "/kaggle/input/amazon-products-dataset/Rucksacks.csv\n",
      "/kaggle/input/amazon-products-dataset/Football.csv\n",
      "/kaggle/input/amazon-products-dataset/Diet and Nutrition.csv\n",
      "/kaggle/input/amazon-products-dataset/Lingerie and Nightwear.csv\n",
      "/kaggle/input/amazon-products-dataset/School Bags.csv\n",
      "/kaggle/input/amazon-products-dataset/T-shirts and Polos.csv\n",
      "/kaggle/input/amazon-products-dataset/All Pet Supplies.csv\n",
      "/kaggle/input/amazon-products-dataset/Value Bazaar.csv\n",
      "/kaggle/input/amazon-products-dataset/Household Supplies.csv\n",
      "/kaggle/input/amazon-products-dataset/Backpacks.csv\n",
      "/kaggle/input/amazon-products-dataset/Fashion Sandals.csv\n",
      "/kaggle/input/amazon-products-dataset/Camera Accessories.csv\n",
      "/kaggle/input/amazon-products-dataset/Industrial and Scientific Supplies.csv\n",
      "/kaggle/input/amazon-products-dataset/Motorbike Accessories and Parts.csv\n",
      "/kaggle/input/amazon-products-dataset/All Appliances.csv\n",
      "/kaggle/input/amazon-products-dataset/PC Games.csv\n",
      "/kaggle/input/amazon-products-dataset/Running.csv\n",
      "/kaggle/input/amazon-products-dataset/All Movies and TV Shows.csv\n",
      "/kaggle/input/amazon-products-dataset/Dog supplies.csv\n",
      "/kaggle/input/amazon-products-dataset/Entertainment Collectibles.csv\n",
      "/kaggle/input/amazon-products-dataset/Washing Machines.csv\n",
      "/kaggle/input/amazon-products-dataset/Cardio Equipment.csv\n",
      "/kaggle/input/amazon-products-dataset/Refrigerators.csv\n",
      "/kaggle/input/amazon-products-dataset/All Video Games.csv\n",
      "/kaggle/input/amazon-products-dataset/Innerwear.csv\n",
      "/kaggle/input/amazon-products-dataset/Suitcases and Trolley Bags.csv\n",
      "/kaggle/input/amazon-products-dataset/Home Dcor.csv\n",
      "/kaggle/input/amazon-products-dataset/Clothing.csv\n",
      "/kaggle/input/amazon-products-dataset/Ballerinas.csv\n",
      "/kaggle/input/amazon-products-dataset/All Exercise and Fitness.csv\n",
      "/kaggle/input/amazon-products-dataset/Badminton.csv\n",
      "/kaggle/input/amazon-products-dataset/Travel Duffles.csv\n",
      "/kaggle/input/amazon-products-dataset/Handbags and Clutches.csv\n",
      "/kaggle/input/amazon-products-dataset/Womens Fashion.csv\n",
      "/kaggle/input/amazon-products-dataset/International Toy Store.csv\n",
      "/kaggle/input/amazon-products-dataset/The Designer Boutique.csv\n",
      "/kaggle/input/amazon-products-dataset/Watches.csv\n",
      "/kaggle/input/amazon-products-dataset/Test Measure and Inspect.csv\n",
      "/kaggle/input/amazon-products-dataset/Childrens Books.csv\n"
     ]
    }
   ],
   "source": [
    "# This Python 3 environment comes with many helpful analytics libraries installed\n",
    "# It is defined by the kaggle/python Docker image: https://github.com/kaggle/docker-python\n",
    "# For example, here's several helpful packages to load\n",
    "\n",
    "import numpy as np # linear algebra\n",
    "import pandas as pd # data processing, CSV file I/O (e.g. pd.read_csv)\n",
    "\n",
    "# Input data files are available in the read-only \"../input/\" directory\n",
    "# For example, running this (by clicking run or pressing Shift+Enter) will list all files under the input directory\n",
    "\n",
    "import os\n",
    "for dirname, _, filenames in os.walk('/kaggle/input'):\n",
    "    for filename in filenames:\n",
    "        print(os.path.join(dirname, filename))\n",
    "        \n",
    "\n",
    "# You can write up to 20GB to the current directory (/kaggle/working/) that gets preserved as output when you create a version using \"Save & Run All\" \n",
    "# You can also write temporary files to /kaggle/temp/, but they won't be saved outside of the current session"
   ]
  },
  {
   "cell_type": "code",
   "execution_count": 2,
   "id": "d0986a09",
   "metadata": {
    "execution": {
     "iopub.execute_input": "2024-01-01T13:05:00.249365Z",
     "iopub.status.busy": "2024-01-01T13:05:00.248805Z",
     "iopub.status.idle": "2024-01-01T13:05:02.603344Z",
     "shell.execute_reply": "2024-01-01T13:05:02.600754Z"
    },
    "papermill": {
     "duration": 2.368884,
     "end_time": "2024-01-01T13:05:02.606971",
     "exception": false,
     "start_time": "2024-01-01T13:05:00.238087",
     "status": "completed"
    },
    "tags": []
   },
   "outputs": [],
   "source": [
    "# Load required libraries\n",
    "import numpy as np \n",
    "import pandas as pd\n",
    "import matplotlib.pyplot as plt\n",
    "%matplotlib inline\n",
    "import seaborn as sns\n",
    "import plotly.express as px"
   ]
  },
  {
   "cell_type": "code",
   "execution_count": 3,
   "id": "ba0ac079",
   "metadata": {
    "execution": {
     "iopub.execute_input": "2024-01-01T13:05:02.627578Z",
     "iopub.status.busy": "2024-01-01T13:05:02.626869Z",
     "iopub.status.idle": "2024-01-01T13:05:02.785144Z",
     "shell.execute_reply": "2024-01-01T13:05:02.783480Z"
    },
    "papermill": {
     "duration": 0.172768,
     "end_time": "2024-01-01T13:05:02.789312",
     "exception": false,
     "start_time": "2024-01-01T13:05:02.616544",
     "status": "completed"
    },
    "tags": []
   },
   "outputs": [
    {
     "data": {
      "text/html": [
       "<div>\n",
       "<style scoped>\n",
       "    .dataframe tbody tr th:only-of-type {\n",
       "        vertical-align: middle;\n",
       "    }\n",
       "\n",
       "    .dataframe tbody tr th {\n",
       "        vertical-align: top;\n",
       "    }\n",
       "\n",
       "    .dataframe thead th {\n",
       "        text-align: right;\n",
       "    }\n",
       "</style>\n",
       "<table border=\"1\" class=\"dataframe\">\n",
       "  <thead>\n",
       "    <tr style=\"text-align: right;\">\n",
       "      <th></th>\n",
       "      <th>name</th>\n",
       "      <th>main_category</th>\n",
       "      <th>sub_category</th>\n",
       "      <th>image</th>\n",
       "      <th>link</th>\n",
       "      <th>ratings</th>\n",
       "      <th>no_of_ratings</th>\n",
       "      <th>discount_price</th>\n",
       "      <th>actual_price</th>\n",
       "    </tr>\n",
       "  </thead>\n",
       "  <tbody>\n",
       "    <tr>\n",
       "      <th>0</th>\n",
       "      <td>Redmi 10 Power (Power Black, 8GB RAM, 128GB St...</td>\n",
       "      <td>tv, audio &amp; cameras</td>\n",
       "      <td>All Electronics</td>\n",
       "      <td>https://m.media-amazon.com/images/I/81eM15lVcJ...</td>\n",
       "      <td>https://www.amazon.in/Redmi-Power-Black-128GB-...</td>\n",
       "      <td>4.0</td>\n",
       "      <td>965</td>\n",
       "      <td>₹10,999</td>\n",
       "      <td>₹18,999</td>\n",
       "    </tr>\n",
       "    <tr>\n",
       "      <th>1</th>\n",
       "      <td>OnePlus Nord CE 2 Lite 5G (Blue Tide, 6GB RAM,...</td>\n",
       "      <td>tv, audio &amp; cameras</td>\n",
       "      <td>All Electronics</td>\n",
       "      <td>https://m.media-amazon.com/images/I/71AvQd3Vzq...</td>\n",
       "      <td>https://www.amazon.in/OnePlus-Nord-Lite-128GB-...</td>\n",
       "      <td>4.3</td>\n",
       "      <td>113,956</td>\n",
       "      <td>₹18,999</td>\n",
       "      <td>₹19,999</td>\n",
       "    </tr>\n",
       "    <tr>\n",
       "      <th>2</th>\n",
       "      <td>OnePlus Bullets Z2 Bluetooth Wireless in Ear E...</td>\n",
       "      <td>tv, audio &amp; cameras</td>\n",
       "      <td>All Electronics</td>\n",
       "      <td>https://m.media-amazon.com/images/I/51UhwaQXCp...</td>\n",
       "      <td>https://www.amazon.in/Oneplus-Bluetooth-Wirele...</td>\n",
       "      <td>4.2</td>\n",
       "      <td>90,304</td>\n",
       "      <td>₹1,999</td>\n",
       "      <td>₹2,299</td>\n",
       "    </tr>\n",
       "    <tr>\n",
       "      <th>3</th>\n",
       "      <td>Samsung Galaxy M33 5G (Mystique Green, 6GB, 12...</td>\n",
       "      <td>tv, audio &amp; cameras</td>\n",
       "      <td>All Electronics</td>\n",
       "      <td>https://m.media-amazon.com/images/I/81I3w4J6yj...</td>\n",
       "      <td>https://www.amazon.in/Samsung-Mystique-Storage...</td>\n",
       "      <td>4.1</td>\n",
       "      <td>24,863</td>\n",
       "      <td>₹15,999</td>\n",
       "      <td>₹24,999</td>\n",
       "    </tr>\n",
       "  </tbody>\n",
       "</table>\n",
       "</div>"
      ],
      "text/plain": [
       "                                                name        main_category  \\\n",
       "0  Redmi 10 Power (Power Black, 8GB RAM, 128GB St...  tv, audio & cameras   \n",
       "1  OnePlus Nord CE 2 Lite 5G (Blue Tide, 6GB RAM,...  tv, audio & cameras   \n",
       "2  OnePlus Bullets Z2 Bluetooth Wireless in Ear E...  tv, audio & cameras   \n",
       "3  Samsung Galaxy M33 5G (Mystique Green, 6GB, 12...  tv, audio & cameras   \n",
       "\n",
       "      sub_category                                              image  \\\n",
       "0  All Electronics  https://m.media-amazon.com/images/I/81eM15lVcJ...   \n",
       "1  All Electronics  https://m.media-amazon.com/images/I/71AvQd3Vzq...   \n",
       "2  All Electronics  https://m.media-amazon.com/images/I/51UhwaQXCp...   \n",
       "3  All Electronics  https://m.media-amazon.com/images/I/81I3w4J6yj...   \n",
       "\n",
       "                                                link ratings no_of_ratings  \\\n",
       "0  https://www.amazon.in/Redmi-Power-Black-128GB-...     4.0           965   \n",
       "1  https://www.amazon.in/OnePlus-Nord-Lite-128GB-...     4.3       113,956   \n",
       "2  https://www.amazon.in/Oneplus-Bluetooth-Wirele...     4.2        90,304   \n",
       "3  https://www.amazon.in/Samsung-Mystique-Storage...     4.1        24,863   \n",
       "\n",
       "  discount_price actual_price  \n",
       "0        ₹10,999      ₹18,999  \n",
       "1        ₹18,999      ₹19,999  \n",
       "2         ₹1,999       ₹2,299  \n",
       "3        ₹15,999      ₹24,999  "
      ]
     },
     "execution_count": 3,
     "metadata": {},
     "output_type": "execute_result"
    }
   ],
   "source": [
    "# load DataFrame \n",
    "filepath='/kaggle/input/amazon-products-dataset/All Electronics.csv'\n",
    "DS=pd.read_csv(filepath,low_memory=False)\n",
    "DS.head(4)"
   ]
  },
  {
   "cell_type": "code",
   "execution_count": 4,
   "id": "2c885025",
   "metadata": {
    "execution": {
     "iopub.execute_input": "2024-01-01T13:05:02.812954Z",
     "iopub.status.busy": "2024-01-01T13:05:02.812504Z",
     "iopub.status.idle": "2024-01-01T13:05:02.820010Z",
     "shell.execute_reply": "2024-01-01T13:05:02.818937Z"
    },
    "papermill": {
     "duration": 0.023331,
     "end_time": "2024-01-01T13:05:02.822635",
     "exception": false,
     "start_time": "2024-01-01T13:05:02.799304",
     "status": "completed"
    },
    "tags": []
   },
   "outputs": [
    {
     "data": {
      "text/plain": [
       "(9600, 9)"
      ]
     },
     "execution_count": 4,
     "metadata": {},
     "output_type": "execute_result"
    }
   ],
   "source": [
    "# check Dataframe size\n",
    "DS.shape"
   ]
  },
  {
   "cell_type": "code",
   "execution_count": 5,
   "id": "9cad1a82",
   "metadata": {
    "execution": {
     "iopub.execute_input": "2024-01-01T13:05:02.844930Z",
     "iopub.status.busy": "2024-01-01T13:05:02.844468Z",
     "iopub.status.idle": "2024-01-01T13:05:02.858758Z",
     "shell.execute_reply": "2024-01-01T13:05:02.857272Z"
    },
    "papermill": {
     "duration": 0.028019,
     "end_time": "2024-01-01T13:05:02.861442",
     "exception": false,
     "start_time": "2024-01-01T13:05:02.833423",
     "status": "completed"
    },
    "tags": []
   },
   "outputs": [
    {
     "data": {
      "text/plain": [
       "name                0\n",
       "main_category       0\n",
       "sub_category        0\n",
       "image               0\n",
       "link                0\n",
       "ratings            95\n",
       "no_of_ratings      95\n",
       "discount_price    484\n",
       "actual_price       70\n",
       "dtype: int64"
      ]
     },
     "execution_count": 5,
     "metadata": {},
     "output_type": "execute_result"
    }
   ],
   "source": [
    "# check missing values in Dataframe\n",
    "DS.isna().sum()"
   ]
  },
  {
   "cell_type": "code",
   "execution_count": 6,
   "id": "34d7be0c",
   "metadata": {
    "execution": {
     "iopub.execute_input": "2024-01-01T13:05:02.884011Z",
     "iopub.status.busy": "2024-01-01T13:05:02.883521Z",
     "iopub.status.idle": "2024-01-01T13:05:02.920585Z",
     "shell.execute_reply": "2024-01-01T13:05:02.919165Z"
    },
    "papermill": {
     "duration": 0.052056,
     "end_time": "2024-01-01T13:05:02.924207",
     "exception": false,
     "start_time": "2024-01-01T13:05:02.872151",
     "status": "completed"
    },
    "tags": []
   },
   "outputs": [
    {
     "data": {
      "text/plain": [
       "name              8800\n",
       "main_category        1\n",
       "sub_category         1\n",
       "image             9321\n",
       "link              9600\n",
       "ratings             39\n",
       "no_of_ratings     3455\n",
       "discount_price    1608\n",
       "actual_price      1068\n",
       "dtype: int64"
      ]
     },
     "execution_count": 6,
     "metadata": {},
     "output_type": "execute_result"
    }
   ],
   "source": [
    "# check unique values in Dataframe\n",
    "DS.nunique()"
   ]
  },
  {
   "cell_type": "code",
   "execution_count": 7,
   "id": "a8c84120",
   "metadata": {
    "execution": {
     "iopub.execute_input": "2024-01-01T13:05:02.949401Z",
     "iopub.status.busy": "2024-01-01T13:05:02.948781Z",
     "iopub.status.idle": "2024-01-01T13:05:02.958838Z",
     "shell.execute_reply": "2024-01-01T13:05:02.957030Z"
    },
    "papermill": {
     "duration": 0.025703,
     "end_time": "2024-01-01T13:05:02.961526",
     "exception": false,
     "start_time": "2024-01-01T13:05:02.935823",
     "status": "completed"
    },
    "tags": []
   },
   "outputs": [
    {
     "data": {
      "text/plain": [
       "Index(['name', 'main_category', 'sub_category', 'image', 'link', 'ratings',\n",
       "       'no_of_ratings', 'discount_price', 'actual_price'],\n",
       "      dtype='object')"
      ]
     },
     "execution_count": 7,
     "metadata": {},
     "output_type": "execute_result"
    }
   ],
   "source": [
    "# check columns in Dataframe\n",
    "DS.columns"
   ]
  },
  {
   "cell_type": "code",
   "execution_count": 8,
   "id": "1cd752aa",
   "metadata": {
    "execution": {
     "iopub.execute_input": "2024-01-01T13:05:02.985677Z",
     "iopub.status.busy": "2024-01-01T13:05:02.985199Z",
     "iopub.status.idle": "2024-01-01T13:05:03.020866Z",
     "shell.execute_reply": "2024-01-01T13:05:03.019085Z"
    },
    "papermill": {
     "duration": 0.051295,
     "end_time": "2024-01-01T13:05:03.023640",
     "exception": false,
     "start_time": "2024-01-01T13:05:02.972345",
     "status": "completed"
    },
    "tags": []
   },
   "outputs": [
    {
     "name": "stdout",
     "output_type": "stream",
     "text": [
      "<class 'pandas.core.frame.DataFrame'>\n",
      "RangeIndex: 9600 entries, 0 to 9599\n",
      "Data columns (total 9 columns):\n",
      " #   Column          Non-Null Count  Dtype \n",
      "---  ------          --------------  ----- \n",
      " 0   name            9600 non-null   object\n",
      " 1   main_category   9600 non-null   object\n",
      " 2   sub_category    9600 non-null   object\n",
      " 3   image           9600 non-null   object\n",
      " 4   link            9600 non-null   object\n",
      " 5   ratings         9505 non-null   object\n",
      " 6   no_of_ratings   9505 non-null   object\n",
      " 7   discount_price  9116 non-null   object\n",
      " 8   actual_price    9530 non-null   object\n",
      "dtypes: object(9)\n",
      "memory usage: 675.1+ KB\n"
     ]
    }
   ],
   "source": [
    "# check datatype of the Dataframe\n",
    "DS.info()"
   ]
  },
  {
   "cell_type": "markdown",
   "id": "57397752",
   "metadata": {
    "papermill": {
     "duration": 0.009076,
     "end_time": "2024-01-01T13:05:03.043709",
     "exception": false,
     "start_time": "2024-01-01T13:05:03.034633",
     "status": "completed"
    },
    "tags": []
   },
   "source": [
    "# **Data Cleaning:**\n",
    "**Here the datatypes of the columns *'name',  'main_category', 'sub_category', 'image', 'link', 'ratings', 'no_of_ratings', 'discount_price', 'actual_price'* are in object which is wrong.\n",
    "So we have to change it to int or float.\n",
    "Also the columns main_category and sub_category has multiple values so we will seperate them into indivisual columns**"
   ]
  },
  {
   "cell_type": "code",
   "execution_count": 9,
   "id": "b1c10fa4",
   "metadata": {
    "execution": {
     "iopub.execute_input": "2024-01-01T13:05:03.066528Z",
     "iopub.status.busy": "2024-01-01T13:05:03.066118Z",
     "iopub.status.idle": "2024-01-01T13:05:03.086885Z",
     "shell.execute_reply": "2024-01-01T13:05:03.085337Z"
    },
    "papermill": {
     "duration": 0.035792,
     "end_time": "2024-01-01T13:05:03.090527",
     "exception": false,
     "start_time": "2024-01-01T13:05:03.054735",
     "status": "completed"
    },
    "tags": []
   },
   "outputs": [],
   "source": [
    "#remove '₹' from columns 'actual_price' and 'discount_price'\n",
    "DS[\"discount_price\"] = DS[\"discount_price\"].str.replace(\"₹\",\"\")\n",
    "DS[\"actual_price\"] = DS[\"actual_price\"].str.replace(\"₹\",\"\")"
   ]
  },
  {
   "cell_type": "code",
   "execution_count": 10,
   "id": "31f2a884",
   "metadata": {
    "execution": {
     "iopub.execute_input": "2024-01-01T13:05:03.113607Z",
     "iopub.status.busy": "2024-01-01T13:05:03.113217Z",
     "iopub.status.idle": "2024-01-01T13:05:03.132683Z",
     "shell.execute_reply": "2024-01-01T13:05:03.131388Z"
    },
    "papermill": {
     "duration": 0.034515,
     "end_time": "2024-01-01T13:05:03.135127",
     "exception": false,
     "start_time": "2024-01-01T13:05:03.100612",
     "status": "completed"
    },
    "tags": []
   },
   "outputs": [],
   "source": [
    "#change datatype as mentioned\n",
    "DS['discount_price'] = DS[\"discount_price\"].str.replace(',', '').astype(float)\n",
    "DS[\"actual_price\"] = DS[\"actual_price\"].str.replace(',', '').astype(float)"
   ]
  },
  {
   "cell_type": "code",
   "execution_count": 11,
   "id": "7722122f",
   "metadata": {
    "execution": {
     "iopub.execute_input": "2024-01-01T13:05:03.158513Z",
     "iopub.status.busy": "2024-01-01T13:05:03.158128Z",
     "iopub.status.idle": "2024-01-01T13:05:03.166904Z",
     "shell.execute_reply": "2024-01-01T13:05:03.165422Z"
    },
    "papermill": {
     "duration": 0.023515,
     "end_time": "2024-01-01T13:05:03.169560",
     "exception": false,
     "start_time": "2024-01-01T13:05:03.146045",
     "status": "completed"
    },
    "tags": []
   },
   "outputs": [
    {
     "data": {
      "text/plain": [
       "array(['4.0', '4.3', '4.2', '4.1', '3.9', '4.6', '3.8', 'Get', '4.4',\n",
       "       '3.5', '3.7', '4.5', '3.3', '3.6', '3.4', nan, '3.2', '2.9', '4.7',\n",
       "       '5.0', '2.5', '2.8', '4.8', '3.1', '3.0', '2.3', '2.7', '2.4',\n",
       "       '4.9', '1.7', '1.5', '2.6', '1.8', '1.3', '2.1', '1.9', '2.2',\n",
       "       '1.0', '1.4', '2.0'], dtype=object)"
      ]
     },
     "execution_count": 11,
     "metadata": {},
     "output_type": "execute_result"
    }
   ],
   "source": [
    "#change rating to normal 0.0 form\n",
    "DS['ratings'].unique()"
   ]
  },
  {
   "cell_type": "code",
   "execution_count": 12,
   "id": "3347e363",
   "metadata": {
    "execution": {
     "iopub.execute_input": "2024-01-01T13:05:03.191764Z",
     "iopub.status.busy": "2024-01-01T13:05:03.191288Z",
     "iopub.status.idle": "2024-01-01T13:05:03.201348Z",
     "shell.execute_reply": "2024-01-01T13:05:03.200180Z"
    },
    "papermill": {
     "duration": 0.02479,
     "end_time": "2024-01-01T13:05:03.204061",
     "exception": false,
     "start_time": "2024-01-01T13:05:03.179271",
     "status": "completed"
    },
    "tags": []
   },
   "outputs": [],
   "source": [
    "#extract digit and change it to float dtype\n",
    "DS['ratings']=DS['ratings'].replace(['Get'], 0.0)\n",
    "DS['ratings']=DS['ratings'].astype(float)"
   ]
  },
  {
   "cell_type": "code",
   "execution_count": 13,
   "id": "15979016",
   "metadata": {
    "execution": {
     "iopub.execute_input": "2024-01-01T13:05:03.224992Z",
     "iopub.status.busy": "2024-01-01T13:05:03.224594Z",
     "iopub.status.idle": "2024-01-01T13:05:03.233751Z",
     "shell.execute_reply": "2024-01-01T13:05:03.232405Z"
    },
    "papermill": {
     "duration": 0.022724,
     "end_time": "2024-01-01T13:05:03.236291",
     "exception": false,
     "start_time": "2024-01-01T13:05:03.213567",
     "status": "completed"
    },
    "tags": []
   },
   "outputs": [
    {
     "data": {
      "text/plain": [
       "array([4. , 4.3, 4.2, 4.1, 3.9, 4.6, 3.8, 0. , 4.4, 3.5, 3.7, 4.5, 3.3,\n",
       "       3.6, 3.4, nan, 3.2, 2.9, 4.7, 5. , 2.5, 2.8, 4.8, 3.1, 3. , 2.3,\n",
       "       2.7, 2.4, 4.9, 1.7, 1.5, 2.6, 1.8, 1.3, 2.1, 1.9, 2.2, 1. , 1.4,\n",
       "       2. ])"
      ]
     },
     "execution_count": 13,
     "metadata": {},
     "output_type": "execute_result"
    }
   ],
   "source": [
    "DS['ratings'].unique()"
   ]
  },
  {
   "cell_type": "markdown",
   "id": "293699a2",
   "metadata": {
    "papermill": {
     "duration": 0.009802,
     "end_time": "2024-01-01T13:05:03.255812",
     "exception": false,
     "start_time": "2024-01-01T13:05:03.246010",
     "status": "completed"
    },
    "tags": []
   },
   "source": [
    "The 'no_of_ratings' column is converted to the float type in two steps: \n",
    "    first, a new boolean column is formed, where the True value corresponds to the numeric value\n",
    "    in the original column.\n",
    "    Then the values 'in the 'no_of_ratings' column are recalculated for values\n",
    "    matching the True of the 'correct_no_of_ratings' column."
   ]
  },
  {
   "cell_type": "code",
   "execution_count": 14,
   "id": "5a5287d0",
   "metadata": {
    "execution": {
     "iopub.execute_input": "2024-01-01T13:05:03.279702Z",
     "iopub.status.busy": "2024-01-01T13:05:03.279298Z",
     "iopub.status.idle": "2024-01-01T13:05:03.372875Z",
     "shell.execute_reply": "2024-01-01T13:05:03.371478Z"
    },
    "papermill": {
     "duration": 0.11024,
     "end_time": "2024-01-01T13:05:03.376287",
     "exception": false,
     "start_time": "2024-01-01T13:05:03.266047",
     "status": "completed"
    },
    "tags": []
   },
   "outputs": [
    {
     "data": {
      "text/plain": [
       "correct_no_of_ratings\n",
       "True    9481\n",
       "Name: count, dtype: int64"
      ]
     },
     "execution_count": 14,
     "metadata": {},
     "output_type": "execute_result"
    }
   ],
   "source": [
    "# Add column 'correct_no_of_ratings' which value is 'True' if 'no_of_ratings' begins from digit \n",
    "DS['no_of_ratings'] = DS['no_of_ratings'].astype(str)\n",
    "DS['correct_no_of_ratings'] = pd.Series([DS['no_of_ratings'][x][0].isdigit() for x in range(len(DS['no_of_ratings']))])\n",
    "\n",
    "# Drop columns with incorrect 'no_of_ratings'\n",
    "DS = DS[DS['correct_no_of_ratings'] == True]\n",
    "DS['correct_no_of_ratings'].value_counts()"
   ]
  },
  {
   "cell_type": "code",
   "execution_count": 15,
   "id": "a1e67f4b",
   "metadata": {
    "execution": {
     "iopub.execute_input": "2024-01-01T13:05:03.398077Z",
     "iopub.status.busy": "2024-01-01T13:05:03.397700Z",
     "iopub.status.idle": "2024-01-01T13:05:03.410888Z",
     "shell.execute_reply": "2024-01-01T13:05:03.409629Z"
    },
    "papermill": {
     "duration": 0.026619,
     "end_time": "2024-01-01T13:05:03.413335",
     "exception": false,
     "start_time": "2024-01-01T13:05:03.386716",
     "status": "completed"
    },
    "tags": []
   },
   "outputs": [],
   "source": [
    "# Change the type to float\n",
    "DS[\"no_of_ratings\"] = DS[\"no_of_ratings\"].str.replace(',', '').astype(float)"
   ]
  },
  {
   "cell_type": "code",
   "execution_count": 16,
   "id": "b2fea7d1",
   "metadata": {
    "execution": {
     "iopub.execute_input": "2024-01-01T13:05:03.434653Z",
     "iopub.status.busy": "2024-01-01T13:05:03.434236Z",
     "iopub.status.idle": "2024-01-01T13:05:03.453185Z",
     "shell.execute_reply": "2024-01-01T13:05:03.452145Z"
    },
    "papermill": {
     "duration": 0.032222,
     "end_time": "2024-01-01T13:05:03.455416",
     "exception": false,
     "start_time": "2024-01-01T13:05:03.423194",
     "status": "completed"
    },
    "tags": []
   },
   "outputs": [
    {
     "data": {
      "text/html": [
       "<div>\n",
       "<style scoped>\n",
       "    .dataframe tbody tr th:only-of-type {\n",
       "        vertical-align: middle;\n",
       "    }\n",
       "\n",
       "    .dataframe tbody tr th {\n",
       "        vertical-align: top;\n",
       "    }\n",
       "\n",
       "    .dataframe thead th {\n",
       "        text-align: right;\n",
       "    }\n",
       "</style>\n",
       "<table border=\"1\" class=\"dataframe\">\n",
       "  <thead>\n",
       "    <tr style=\"text-align: right;\">\n",
       "      <th></th>\n",
       "      <th>name</th>\n",
       "      <th>main_category</th>\n",
       "      <th>sub_category</th>\n",
       "      <th>image</th>\n",
       "      <th>link</th>\n",
       "      <th>ratings</th>\n",
       "      <th>no_of_ratings</th>\n",
       "      <th>discount_price</th>\n",
       "      <th>actual_price</th>\n",
       "      <th>correct_no_of_ratings</th>\n",
       "    </tr>\n",
       "  </thead>\n",
       "  <tbody>\n",
       "    <tr>\n",
       "      <th>0</th>\n",
       "      <td>Redmi 10 Power (Power Black, 8GB RAM, 128GB St...</td>\n",
       "      <td>tv, audio &amp; cameras</td>\n",
       "      <td>All Electronics</td>\n",
       "      <td>https://m.media-amazon.com/images/I/81eM15lVcJ...</td>\n",
       "      <td>https://www.amazon.in/Redmi-Power-Black-128GB-...</td>\n",
       "      <td>4.0</td>\n",
       "      <td>965.0</td>\n",
       "      <td>10999.0</td>\n",
       "      <td>18999.0</td>\n",
       "      <td>True</td>\n",
       "    </tr>\n",
       "    <tr>\n",
       "      <th>1</th>\n",
       "      <td>OnePlus Nord CE 2 Lite 5G (Blue Tide, 6GB RAM,...</td>\n",
       "      <td>tv, audio &amp; cameras</td>\n",
       "      <td>All Electronics</td>\n",
       "      <td>https://m.media-amazon.com/images/I/71AvQd3Vzq...</td>\n",
       "      <td>https://www.amazon.in/OnePlus-Nord-Lite-128GB-...</td>\n",
       "      <td>4.3</td>\n",
       "      <td>113956.0</td>\n",
       "      <td>18999.0</td>\n",
       "      <td>19999.0</td>\n",
       "      <td>True</td>\n",
       "    </tr>\n",
       "    <tr>\n",
       "      <th>2</th>\n",
       "      <td>OnePlus Bullets Z2 Bluetooth Wireless in Ear E...</td>\n",
       "      <td>tv, audio &amp; cameras</td>\n",
       "      <td>All Electronics</td>\n",
       "      <td>https://m.media-amazon.com/images/I/51UhwaQXCp...</td>\n",
       "      <td>https://www.amazon.in/Oneplus-Bluetooth-Wirele...</td>\n",
       "      <td>4.2</td>\n",
       "      <td>90304.0</td>\n",
       "      <td>1999.0</td>\n",
       "      <td>2299.0</td>\n",
       "      <td>True</td>\n",
       "    </tr>\n",
       "    <tr>\n",
       "      <th>3</th>\n",
       "      <td>Samsung Galaxy M33 5G (Mystique Green, 6GB, 12...</td>\n",
       "      <td>tv, audio &amp; cameras</td>\n",
       "      <td>All Electronics</td>\n",
       "      <td>https://m.media-amazon.com/images/I/81I3w4J6yj...</td>\n",
       "      <td>https://www.amazon.in/Samsung-Mystique-Storage...</td>\n",
       "      <td>4.1</td>\n",
       "      <td>24863.0</td>\n",
       "      <td>15999.0</td>\n",
       "      <td>24999.0</td>\n",
       "      <td>True</td>\n",
       "    </tr>\n",
       "    <tr>\n",
       "      <th>4</th>\n",
       "      <td>OnePlus Nord CE 2 Lite 5G (Black Dusk, 6GB RAM...</td>\n",
       "      <td>tv, audio &amp; cameras</td>\n",
       "      <td>All Electronics</td>\n",
       "      <td>https://m.media-amazon.com/images/I/71V--WZVUI...</td>\n",
       "      <td>https://www.amazon.in/OnePlus-Nord-Black-128GB...</td>\n",
       "      <td>4.3</td>\n",
       "      <td>113956.0</td>\n",
       "      <td>18999.0</td>\n",
       "      <td>19999.0</td>\n",
       "      <td>True</td>\n",
       "    </tr>\n",
       "  </tbody>\n",
       "</table>\n",
       "</div>"
      ],
      "text/plain": [
       "                                                name        main_category  \\\n",
       "0  Redmi 10 Power (Power Black, 8GB RAM, 128GB St...  tv, audio & cameras   \n",
       "1  OnePlus Nord CE 2 Lite 5G (Blue Tide, 6GB RAM,...  tv, audio & cameras   \n",
       "2  OnePlus Bullets Z2 Bluetooth Wireless in Ear E...  tv, audio & cameras   \n",
       "3  Samsung Galaxy M33 5G (Mystique Green, 6GB, 12...  tv, audio & cameras   \n",
       "4  OnePlus Nord CE 2 Lite 5G (Black Dusk, 6GB RAM...  tv, audio & cameras   \n",
       "\n",
       "      sub_category                                              image  \\\n",
       "0  All Electronics  https://m.media-amazon.com/images/I/81eM15lVcJ...   \n",
       "1  All Electronics  https://m.media-amazon.com/images/I/71AvQd3Vzq...   \n",
       "2  All Electronics  https://m.media-amazon.com/images/I/51UhwaQXCp...   \n",
       "3  All Electronics  https://m.media-amazon.com/images/I/81I3w4J6yj...   \n",
       "4  All Electronics  https://m.media-amazon.com/images/I/71V--WZVUI...   \n",
       "\n",
       "                                                link  ratings  no_of_ratings  \\\n",
       "0  https://www.amazon.in/Redmi-Power-Black-128GB-...      4.0          965.0   \n",
       "1  https://www.amazon.in/OnePlus-Nord-Lite-128GB-...      4.3       113956.0   \n",
       "2  https://www.amazon.in/Oneplus-Bluetooth-Wirele...      4.2        90304.0   \n",
       "3  https://www.amazon.in/Samsung-Mystique-Storage...      4.1        24863.0   \n",
       "4  https://www.amazon.in/OnePlus-Nord-Black-128GB...      4.3       113956.0   \n",
       "\n",
       "   discount_price  actual_price  correct_no_of_ratings  \n",
       "0         10999.0       18999.0                   True  \n",
       "1         18999.0       19999.0                   True  \n",
       "2          1999.0        2299.0                   True  \n",
       "3         15999.0       24999.0                   True  \n",
       "4         18999.0       19999.0                   True  "
      ]
     },
     "execution_count": 16,
     "metadata": {},
     "output_type": "execute_result"
    }
   ],
   "source": [
    "DS.head()"
   ]
  },
  {
   "cell_type": "code",
   "execution_count": 17,
   "id": "0b73f0d4",
   "metadata": {
    "execution": {
     "iopub.execute_input": "2024-01-01T13:05:03.479349Z",
     "iopub.status.busy": "2024-01-01T13:05:03.478931Z",
     "iopub.status.idle": "2024-01-01T13:05:03.495565Z",
     "shell.execute_reply": "2024-01-01T13:05:03.493965Z"
    },
    "papermill": {
     "duration": 0.030844,
     "end_time": "2024-01-01T13:05:03.497932",
     "exception": false,
     "start_time": "2024-01-01T13:05:03.467088",
     "status": "completed"
    },
    "tags": []
   },
   "outputs": [
    {
     "name": "stdout",
     "output_type": "stream",
     "text": [
      "<class 'pandas.core.frame.DataFrame'>\n",
      "Index: 9481 entries, 0 to 9599\n",
      "Data columns (total 10 columns):\n",
      " #   Column                 Non-Null Count  Dtype  \n",
      "---  ------                 --------------  -----  \n",
      " 0   name                   9481 non-null   object \n",
      " 1   main_category          9481 non-null   object \n",
      " 2   sub_category           9481 non-null   object \n",
      " 3   image                  9481 non-null   object \n",
      " 4   link                   9481 non-null   object \n",
      " 5   ratings                9481 non-null   float64\n",
      " 6   no_of_ratings          9481 non-null   float64\n",
      " 7   discount_price         9002 non-null   float64\n",
      " 8   actual_price           9411 non-null   float64\n",
      " 9   correct_no_of_ratings  9481 non-null   bool   \n",
      "dtypes: bool(1), float64(4), object(5)\n",
      "memory usage: 750.0+ KB\n"
     ]
    }
   ],
   "source": [
    "DS.info()"
   ]
  },
  {
   "cell_type": "code",
   "execution_count": 18,
   "id": "fbde18fd",
   "metadata": {
    "execution": {
     "iopub.execute_input": "2024-01-01T13:05:03.520596Z",
     "iopub.status.busy": "2024-01-01T13:05:03.520176Z",
     "iopub.status.idle": "2024-01-01T13:05:03.532130Z",
     "shell.execute_reply": "2024-01-01T13:05:03.531235Z"
    },
    "papermill": {
     "duration": 0.026267,
     "end_time": "2024-01-01T13:05:03.534433",
     "exception": false,
     "start_time": "2024-01-01T13:05:03.508166",
     "status": "completed"
    },
    "tags": []
   },
   "outputs": [
    {
     "data": {
      "text/plain": [
       "count    9481.000000\n",
       "mean        4.077576\n",
       "std         0.377189\n",
       "min         1.000000\n",
       "25%         3.900000\n",
       "50%         4.100000\n",
       "75%         4.300000\n",
       "max         5.000000\n",
       "Name: ratings, dtype: float64"
      ]
     },
     "execution_count": 18,
     "metadata": {},
     "output_type": "execute_result"
    }
   ],
   "source": [
    "DS['ratings'].describe()"
   ]
  },
  {
   "cell_type": "markdown",
   "id": "5135f53d",
   "metadata": {
    "papermill": {
     "duration": 0.011492,
     "end_time": "2024-01-01T13:05:03.557564",
     "exception": false,
     "start_time": "2024-01-01T13:05:03.546072",
     "status": "completed"
    },
    "tags": []
   },
   "source": [
    "Here, We can observe that the standard deviation is 0.37 and the mean is 4.07, indicating that the overall ratings for clothing products are above average. \n",
    "However, there are two possible scenarios to consider. Since 98.77 % of the products have been rated, it is likely that most of the customers have rated the product and those who were dissatisfied chose to leave a rating. \n",
    "Therefore, based on this analysis, it appears that **the overall condition of the Electronics Products is very much satisfactory from a customer perspective**."
   ]
  },
  {
   "cell_type": "code",
   "execution_count": 19,
   "id": "be3b710d",
   "metadata": {
    "execution": {
     "iopub.execute_input": "2024-01-01T13:05:03.647880Z",
     "iopub.status.busy": "2024-01-01T13:05:03.647447Z",
     "iopub.status.idle": "2024-01-01T13:05:03.658484Z",
     "shell.execute_reply": "2024-01-01T13:05:03.657278Z"
    },
    "papermill": {
     "duration": 0.026005,
     "end_time": "2024-01-01T13:05:03.661142",
     "exception": false,
     "start_time": "2024-01-01T13:05:03.635137",
     "status": "completed"
    },
    "tags": []
   },
   "outputs": [],
   "source": [
    "# removing missing values from 'actual_price' & 'discount_price' column\n",
    "DS=DS.dropna(subset=['actual_price','discount_price'])"
   ]
  },
  {
   "cell_type": "code",
   "execution_count": 20,
   "id": "9766e9ed",
   "metadata": {
    "execution": {
     "iopub.execute_input": "2024-01-01T13:05:03.683958Z",
     "iopub.status.busy": "2024-01-01T13:05:03.683540Z",
     "iopub.status.idle": "2024-01-01T13:05:03.748329Z",
     "shell.execute_reply": "2024-01-01T13:05:03.747411Z"
    },
    "papermill": {
     "duration": 0.079117,
     "end_time": "2024-01-01T13:05:03.750757",
     "exception": false,
     "start_time": "2024-01-01T13:05:03.671640",
     "status": "completed"
    },
    "tags": []
   },
   "outputs": [
    {
     "data": {
      "text/html": [
       "<div>\n",
       "<style scoped>\n",
       "    .dataframe tbody tr th:only-of-type {\n",
       "        vertical-align: middle;\n",
       "    }\n",
       "\n",
       "    .dataframe tbody tr th {\n",
       "        vertical-align: top;\n",
       "    }\n",
       "\n",
       "    .dataframe thead th {\n",
       "        text-align: right;\n",
       "    }\n",
       "</style>\n",
       "<table border=\"1\" class=\"dataframe\">\n",
       "  <thead>\n",
       "    <tr style=\"text-align: right;\">\n",
       "      <th></th>\n",
       "      <th>name</th>\n",
       "      <th>manufacturer</th>\n",
       "      <th>main_category</th>\n",
       "      <th>sub_category</th>\n",
       "      <th>image</th>\n",
       "      <th>link</th>\n",
       "      <th>ratings</th>\n",
       "      <th>no_of_ratings</th>\n",
       "      <th>discount_price</th>\n",
       "      <th>actual_price</th>\n",
       "      <th>correct_no_of_ratings</th>\n",
       "    </tr>\n",
       "  </thead>\n",
       "  <tbody>\n",
       "    <tr>\n",
       "      <th>0</th>\n",
       "      <td>Redmi 10 Power (Power Black, 8GB RAM, 128GB St...</td>\n",
       "      <td>Redmi</td>\n",
       "      <td>tv, audio &amp; cameras</td>\n",
       "      <td>All Electronics</td>\n",
       "      <td>https://m.media-amazon.com/images/I/81eM15lVcJ...</td>\n",
       "      <td>https://www.amazon.in/Redmi-Power-Black-128GB-...</td>\n",
       "      <td>4.0</td>\n",
       "      <td>965.0</td>\n",
       "      <td>10999.0</td>\n",
       "      <td>18999.0</td>\n",
       "      <td>True</td>\n",
       "    </tr>\n",
       "    <tr>\n",
       "      <th>1</th>\n",
       "      <td>OnePlus Nord CE 2 Lite 5G (Blue Tide, 6GB RAM,...</td>\n",
       "      <td>OnePlus</td>\n",
       "      <td>tv, audio &amp; cameras</td>\n",
       "      <td>All Electronics</td>\n",
       "      <td>https://m.media-amazon.com/images/I/71AvQd3Vzq...</td>\n",
       "      <td>https://www.amazon.in/OnePlus-Nord-Lite-128GB-...</td>\n",
       "      <td>4.3</td>\n",
       "      <td>113956.0</td>\n",
       "      <td>18999.0</td>\n",
       "      <td>19999.0</td>\n",
       "      <td>True</td>\n",
       "    </tr>\n",
       "    <tr>\n",
       "      <th>2</th>\n",
       "      <td>OnePlus Bullets Z2 Bluetooth Wireless in Ear E...</td>\n",
       "      <td>OnePlus</td>\n",
       "      <td>tv, audio &amp; cameras</td>\n",
       "      <td>All Electronics</td>\n",
       "      <td>https://m.media-amazon.com/images/I/51UhwaQXCp...</td>\n",
       "      <td>https://www.amazon.in/Oneplus-Bluetooth-Wirele...</td>\n",
       "      <td>4.2</td>\n",
       "      <td>90304.0</td>\n",
       "      <td>1999.0</td>\n",
       "      <td>2299.0</td>\n",
       "      <td>True</td>\n",
       "    </tr>\n",
       "    <tr>\n",
       "      <th>3</th>\n",
       "      <td>Samsung Galaxy M33 5G (Mystique Green, 6GB, 12...</td>\n",
       "      <td>Samsung</td>\n",
       "      <td>tv, audio &amp; cameras</td>\n",
       "      <td>All Electronics</td>\n",
       "      <td>https://m.media-amazon.com/images/I/81I3w4J6yj...</td>\n",
       "      <td>https://www.amazon.in/Samsung-Mystique-Storage...</td>\n",
       "      <td>4.1</td>\n",
       "      <td>24863.0</td>\n",
       "      <td>15999.0</td>\n",
       "      <td>24999.0</td>\n",
       "      <td>True</td>\n",
       "    </tr>\n",
       "    <tr>\n",
       "      <th>4</th>\n",
       "      <td>OnePlus Nord CE 2 Lite 5G (Black Dusk, 6GB RAM...</td>\n",
       "      <td>OnePlus</td>\n",
       "      <td>tv, audio &amp; cameras</td>\n",
       "      <td>All Electronics</td>\n",
       "      <td>https://m.media-amazon.com/images/I/71V--WZVUI...</td>\n",
       "      <td>https://www.amazon.in/OnePlus-Nord-Black-128GB...</td>\n",
       "      <td>4.3</td>\n",
       "      <td>113956.0</td>\n",
       "      <td>18999.0</td>\n",
       "      <td>19999.0</td>\n",
       "      <td>True</td>\n",
       "    </tr>\n",
       "  </tbody>\n",
       "</table>\n",
       "</div>"
      ],
      "text/plain": [
       "                                                name manufacturer  \\\n",
       "0  Redmi 10 Power (Power Black, 8GB RAM, 128GB St...        Redmi   \n",
       "1  OnePlus Nord CE 2 Lite 5G (Blue Tide, 6GB RAM,...      OnePlus   \n",
       "2  OnePlus Bullets Z2 Bluetooth Wireless in Ear E...      OnePlus   \n",
       "3  Samsung Galaxy M33 5G (Mystique Green, 6GB, 12...      Samsung   \n",
       "4  OnePlus Nord CE 2 Lite 5G (Black Dusk, 6GB RAM...      OnePlus   \n",
       "\n",
       "         main_category     sub_category  \\\n",
       "0  tv, audio & cameras  All Electronics   \n",
       "1  tv, audio & cameras  All Electronics   \n",
       "2  tv, audio & cameras  All Electronics   \n",
       "3  tv, audio & cameras  All Electronics   \n",
       "4  tv, audio & cameras  All Electronics   \n",
       "\n",
       "                                               image  \\\n",
       "0  https://m.media-amazon.com/images/I/81eM15lVcJ...   \n",
       "1  https://m.media-amazon.com/images/I/71AvQd3Vzq...   \n",
       "2  https://m.media-amazon.com/images/I/51UhwaQXCp...   \n",
       "3  https://m.media-amazon.com/images/I/81I3w4J6yj...   \n",
       "4  https://m.media-amazon.com/images/I/71V--WZVUI...   \n",
       "\n",
       "                                                link  ratings  no_of_ratings  \\\n",
       "0  https://www.amazon.in/Redmi-Power-Black-128GB-...      4.0          965.0   \n",
       "1  https://www.amazon.in/OnePlus-Nord-Lite-128GB-...      4.3       113956.0   \n",
       "2  https://www.amazon.in/Oneplus-Bluetooth-Wirele...      4.2        90304.0   \n",
       "3  https://www.amazon.in/Samsung-Mystique-Storage...      4.1        24863.0   \n",
       "4  https://www.amazon.in/OnePlus-Nord-Black-128GB...      4.3       113956.0   \n",
       "\n",
       "   discount_price  actual_price  correct_no_of_ratings  \n",
       "0         10999.0       18999.0                   True  \n",
       "1         18999.0       19999.0                   True  \n",
       "2          1999.0        2299.0                   True  \n",
       "3         15999.0       24999.0                   True  \n",
       "4         18999.0       19999.0                   True  "
      ]
     },
     "execution_count": 20,
     "metadata": {},
     "output_type": "execute_result"
    }
   ],
   "source": [
    "#Extract the manufractor name from the dataset columns name\n",
    "DS['manufacturer']=DS['name'].str.split(' ').str[0]\n",
    "cols=DS.columns.tolist()\n",
    "# change the position of manufracturer\n",
    "cols=['name',\n",
    " 'manufacturer',\n",
    " 'main_category',\n",
    " 'sub_category',\n",
    " 'image',\n",
    " 'link',\n",
    " 'ratings',\n",
    " 'no_of_ratings',\n",
    " 'discount_price',\n",
    " 'actual_price',\n",
    " 'correct_no_of_ratings']\n",
    "DS=DS[cols]\n",
    "DS.head()"
   ]
  },
  {
   "cell_type": "code",
   "execution_count": 21,
   "id": "fe39b360",
   "metadata": {
    "execution": {
     "iopub.execute_input": "2024-01-01T13:05:03.777582Z",
     "iopub.status.busy": "2024-01-01T13:05:03.776620Z",
     "iopub.status.idle": "2024-01-01T13:05:03.804642Z",
     "shell.execute_reply": "2024-01-01T13:05:03.802937Z"
    },
    "papermill": {
     "duration": 0.043126,
     "end_time": "2024-01-01T13:05:03.807195",
     "exception": false,
     "start_time": "2024-01-01T13:05:03.764069",
     "status": "completed"
    },
    "tags": []
   },
   "outputs": [
    {
     "data": {
      "text/html": [
       "<div>\n",
       "<style scoped>\n",
       "    .dataframe tbody tr th:only-of-type {\n",
       "        vertical-align: middle;\n",
       "    }\n",
       "\n",
       "    .dataframe tbody tr th {\n",
       "        vertical-align: top;\n",
       "    }\n",
       "\n",
       "    .dataframe thead th {\n",
       "        text-align: right;\n",
       "    }\n",
       "</style>\n",
       "<table border=\"1\" class=\"dataframe\">\n",
       "  <thead>\n",
       "    <tr style=\"text-align: right;\">\n",
       "      <th></th>\n",
       "      <th>actual_price</th>\n",
       "    </tr>\n",
       "    <tr>\n",
       "      <th>manufacturer</th>\n",
       "      <th></th>\n",
       "    </tr>\n",
       "  </thead>\n",
       "  <tbody>\n",
       "    <tr>\n",
       "      <th>Havells-Lloyd</th>\n",
       "      <td>99990.00</td>\n",
       "    </tr>\n",
       "    <tr>\n",
       "      <th>Vu</th>\n",
       "      <td>80000.00</td>\n",
       "    </tr>\n",
       "    <tr>\n",
       "      <th>Hisense</th>\n",
       "      <td>70990.00</td>\n",
       "    </tr>\n",
       "    <tr>\n",
       "      <th>VU</th>\n",
       "      <td>61250.00</td>\n",
       "    </tr>\n",
       "    <tr>\n",
       "      <th>Apple</th>\n",
       "      <td>60810.18</td>\n",
       "    </tr>\n",
       "    <tr>\n",
       "      <th>...</th>\n",
       "      <td>...</td>\n",
       "    </tr>\n",
       "    <tr>\n",
       "      <th>Mungyo</th>\n",
       "      <td>182.00</td>\n",
       "    </tr>\n",
       "    <tr>\n",
       "      <th>Maped</th>\n",
       "      <td>165.00</td>\n",
       "    </tr>\n",
       "    <tr>\n",
       "      <th>ShopsGoods</th>\n",
       "      <td>120.00</td>\n",
       "    </tr>\n",
       "    <tr>\n",
       "      <th>Apsara</th>\n",
       "      <td>99.86</td>\n",
       "    </tr>\n",
       "    <tr>\n",
       "      <th>Faber</th>\n",
       "      <td>50.00</td>\n",
       "    </tr>\n",
       "  </tbody>\n",
       "</table>\n",
       "<p>1758 rows × 1 columns</p>\n",
       "</div>"
      ],
      "text/plain": [
       "               actual_price\n",
       "manufacturer               \n",
       "Havells-Lloyd      99990.00\n",
       "Vu                 80000.00\n",
       "Hisense            70990.00\n",
       "VU                 61250.00\n",
       "Apple              60810.18\n",
       "...                     ...\n",
       "Mungyo               182.00\n",
       "Maped                165.00\n",
       "ShopsGoods           120.00\n",
       "Apsara                99.86\n",
       "Faber                 50.00\n",
       "\n",
       "[1758 rows x 1 columns]"
      ]
     },
     "execution_count": 21,
     "metadata": {},
     "output_type": "execute_result"
    }
   ],
   "source": [
    "# sorting the manufactures according to their prices\n",
    "DS[['actual_price','manufacturer']].groupby('manufacturer').mean().round(2).sort_values(by='actual_price',ascending=False)"
   ]
  },
  {
   "cell_type": "code",
   "execution_count": null,
   "id": "47a22aa7",
   "metadata": {
    "execution": {
     "iopub.execute_input": "2024-01-01T13:05:03.832881Z",
     "iopub.status.busy": "2024-01-01T13:05:03.832497Z",
     "iopub.status.idle": "2024-01-01T13:05:03.855838Z",
     "shell.execute_reply": "2024-01-01T13:05:03.854562Z"
    },
    "papermill": {
     "duration": 0.039274,
     "end_time": "2024-01-01T13:05:03.858456",
     "exception": false,
     "start_time": "2024-01-01T13:05:03.819182",
     "status": "completed"
    },
    "tags": []
   },
   "outputs": [
    {
     "data": {
      "text/html": [
       "<div>\n",
       "<style scoped>\n",
       "    .dataframe tbody tr th:only-of-type {\n",
       "        vertical-align: middle;\n",
       "    }\n",
       "\n",
       "    .dataframe tbody tr th {\n",
       "        vertical-align: top;\n",
       "    }\n",
       "\n",
       "    .dataframe thead th {\n",
       "        text-align: right;\n",
       "    }\n",
       "</style>\n",
       "<table border=\"1\" class=\"dataframe\">\n",
       "  <thead>\n",
       "    <tr style=\"text-align: right;\">\n",
       "      <th></th>\n",
       "      <th>name</th>\n",
       "      <th>manufacturer</th>\n",
       "      <th>main_category</th>\n",
       "      <th>sub_category</th>\n",
       "      <th>image</th>\n",
       "      <th>link</th>\n",
       "      <th>ratings</th>\n",
       "      <th>no_of_ratings</th>\n",
       "      <th>discount_price</th>\n",
       "      <th>actual_price</th>\n",
       "      <th>correct_no_of_ratings</th>\n",
       "      <th>discount</th>\n",
       "      <th>discount_percentage</th>\n",
       "    </tr>\n",
       "  </thead>\n",
       "  <tbody>\n",
       "    <tr>\n",
       "      <th>0</th>\n",
       "      <td>Redmi 10 Power (Power Black, 8GB RAM, 128GB St...</td>\n",
       "      <td>Redmi</td>\n",
       "      <td>tv, audio &amp; cameras</td>\n",
       "      <td>All Electronics</td>\n",
       "      <td>https://m.media-amazon.com/images/I/81eM15lVcJ...</td>\n",
       "      <td>https://www.amazon.in/Redmi-Power-Black-128GB-...</td>\n",
       "      <td>4.0</td>\n",
       "      <td>965.0</td>\n",
       "      <td>10999.0</td>\n",
       "      <td>18999.0</td>\n",
       "      <td>True</td>\n",
       "      <td>8000.0</td>\n",
       "      <td>0.58</td>\n",
       "    </tr>\n",
       "    <tr>\n",
       "      <th>1</th>\n",
       "      <td>OnePlus Nord CE 2 Lite 5G (Blue Tide, 6GB RAM,...</td>\n",
       "      <td>OnePlus</td>\n",
       "      <td>tv, audio &amp; cameras</td>\n",
       "      <td>All Electronics</td>\n",
       "      <td>https://m.media-amazon.com/images/I/71AvQd3Vzq...</td>\n",
       "      <td>https://www.amazon.in/OnePlus-Nord-Lite-128GB-...</td>\n",
       "      <td>4.3</td>\n",
       "      <td>113956.0</td>\n",
       "      <td>18999.0</td>\n",
       "      <td>19999.0</td>\n",
       "      <td>True</td>\n",
       "      <td>1000.0</td>\n",
       "      <td>0.95</td>\n",
       "    </tr>\n",
       "    <tr>\n",
       "      <th>2</th>\n",
       "      <td>OnePlus Bullets Z2 Bluetooth Wireless in Ear E...</td>\n",
       "      <td>OnePlus</td>\n",
       "      <td>tv, audio &amp; cameras</td>\n",
       "      <td>All Electronics</td>\n",
       "      <td>https://m.media-amazon.com/images/I/51UhwaQXCp...</td>\n",
       "      <td>https://www.amazon.in/Oneplus-Bluetooth-Wirele...</td>\n",
       "      <td>4.2</td>\n",
       "      <td>90304.0</td>\n",
       "      <td>1999.0</td>\n",
       "      <td>2299.0</td>\n",
       "      <td>True</td>\n",
       "      <td>300.0</td>\n",
       "      <td>0.87</td>\n",
       "    </tr>\n",
       "    <tr>\n",
       "      <th>3</th>\n",
       "      <td>Samsung Galaxy M33 5G (Mystique Green, 6GB, 12...</td>\n",
       "      <td>Samsung</td>\n",
       "      <td>tv, audio &amp; cameras</td>\n",
       "      <td>All Electronics</td>\n",
       "      <td>https://m.media-amazon.com/images/I/81I3w4J6yj...</td>\n",
       "      <td>https://www.amazon.in/Samsung-Mystique-Storage...</td>\n",
       "      <td>4.1</td>\n",
       "      <td>24863.0</td>\n",
       "      <td>15999.0</td>\n",
       "      <td>24999.0</td>\n",
       "      <td>True</td>\n",
       "      <td>9000.0</td>\n",
       "      <td>0.64</td>\n",
       "    </tr>\n",
       "    <tr>\n",
       "      <th>4</th>\n",
       "      <td>OnePlus Nord CE 2 Lite 5G (Black Dusk, 6GB RAM...</td>\n",
       "      <td>OnePlus</td>\n",
       "      <td>tv, audio &amp; cameras</td>\n",
       "      <td>All Electronics</td>\n",
       "      <td>https://m.media-amazon.com/images/I/71V--WZVUI...</td>\n",
       "      <td>https://www.amazon.in/OnePlus-Nord-Black-128GB...</td>\n",
       "      <td>4.3</td>\n",
       "      <td>113956.0</td>\n",
       "      <td>18999.0</td>\n",
       "      <td>19999.0</td>\n",
       "      <td>True</td>\n",
       "      <td>1000.0</td>\n",
       "      <td>0.95</td>\n",
       "    </tr>\n",
       "  </tbody>\n",
       "</table>\n",
       "</div>"
      ],
      "text/plain": [
       "                                                name manufacturer  \\\n",
       "0  Redmi 10 Power (Power Black, 8GB RAM, 128GB St...        Redmi   \n",
       "1  OnePlus Nord CE 2 Lite 5G (Blue Tide, 6GB RAM,...      OnePlus   \n",
       "2  OnePlus Bullets Z2 Bluetooth Wireless in Ear E...      OnePlus   \n",
       "3  Samsung Galaxy M33 5G (Mystique Green, 6GB, 12...      Samsung   \n",
       "4  OnePlus Nord CE 2 Lite 5G (Black Dusk, 6GB RAM...      OnePlus   \n",
       "\n",
       "         main_category     sub_category  \\\n",
       "0  tv, audio & cameras  All Electronics   \n",
       "1  tv, audio & cameras  All Electronics   \n",
       "2  tv, audio & cameras  All Electronics   \n",
       "3  tv, audio & cameras  All Electronics   \n",
       "4  tv, audio & cameras  All Electronics   \n",
       "\n",
       "                                               image  \\\n",
       "0  https://m.media-amazon.com/images/I/81eM15lVcJ...   \n",
       "1  https://m.media-amazon.com/images/I/71AvQd3Vzq...   \n",
       "2  https://m.media-amazon.com/images/I/51UhwaQXCp...   \n",
       "3  https://m.media-amazon.com/images/I/81I3w4J6yj...   \n",
       "4  https://m.media-amazon.com/images/I/71V--WZVUI...   \n",
       "\n",
       "                                                link  ratings  no_of_ratings  \\\n",
       "0  https://www.amazon.in/Redmi-Power-Black-128GB-...      4.0          965.0   \n",
       "1  https://www.amazon.in/OnePlus-Nord-Lite-128GB-...      4.3       113956.0   \n",
       "2  https://www.amazon.in/Oneplus-Bluetooth-Wirele...      4.2        90304.0   \n",
       "3  https://www.amazon.in/Samsung-Mystique-Storage...      4.1        24863.0   \n",
       "4  https://www.amazon.in/OnePlus-Nord-Black-128GB...      4.3       113956.0   \n",
       "\n",
       "   discount_price  actual_price  correct_no_of_ratings  discount  \\\n",
       "0         10999.0       18999.0                   True    8000.0   \n",
       "1         18999.0       19999.0                   True    1000.0   \n",
       "2          1999.0        2299.0                   True     300.0   \n",
       "3         15999.0       24999.0                   True    9000.0   \n",
       "4         18999.0       19999.0                   True    1000.0   \n",
       "\n",
       "   discount_percentage  \n",
       "0                 0.58  \n",
       "1                 0.95  \n",
       "2                 0.87  \n",
       "3                 0.64  \n",
       "4                 0.95  "
      ]
     },
     "execution_count": 22,
     "metadata": {},
     "output_type": "execute_result"
    }
   ],
   "source": [
    "#add column with discount and discount_percentage\n",
    "DS['discount']=DS['actual_price']-DS['discount_price']\n",
    "DS['discount_percentage']=round((1-DS['discount']/DS['actual_price']*100),2)\n",
    "DS.head()"
   ]
  },
  {
   "cell_type": "markdown",
   "id": "74dbb071",
   "metadata": {
    "papermill": {
     "duration": 0.013145,
     "end_time": "2024-01-01T13:05:03.884036",
     "exception": false,
     "start_time": "2024-01-01T13:05:03.870891",
     "status": "completed"
    },
    "tags": []
   },
   "source": [
    "**Popular consumer electronics brand**"
   ]
  },
  {
   "cell_type": "code",
   "execution_count": 23,
   "id": "bc20fb2e",
   "metadata": {
    "execution": {
     "iopub.execute_input": "2024-01-01T13:05:03.911807Z",
     "iopub.status.busy": "2024-01-01T13:05:03.911404Z",
     "iopub.status.idle": "2024-01-01T13:05:06.208756Z",
     "shell.execute_reply": "2024-01-01T13:05:06.207579Z"
    },
    "papermill": {
     "duration": 2.314965,
     "end_time": "2024-01-01T13:05:06.211686",
     "exception": false,
     "start_time": "2024-01-01T13:05:03.896721",
     "status": "completed"
    },
    "tags": []
   },
   "outputs": [
    {
     "data": {
      "text/html": [
       "        <script type=\"text/javascript\">\n",
       "        window.PlotlyConfig = {MathJaxConfig: 'local'};\n",
       "        if (window.MathJax && window.MathJax.Hub && window.MathJax.Hub.Config) {window.MathJax.Hub.Config({SVG: {font: \"STIX-Web\"}});}\n",
       "        if (typeof require !== 'undefined') {\n",
       "        require.undef(\"plotly\");\n",
       "        requirejs.config({\n",
       "            paths: {\n",
       "                'plotly': ['https://cdn.plot.ly/plotly-2.25.2.min']\n",
       "            }\n",
       "        });\n",
       "        require(['plotly'], function(Plotly) {\n",
       "            window._Plotly = Plotly;\n",
       "        });\n",
       "        }\n",
       "        </script>\n",
       "        "
      ]
     },
     "metadata": {},
     "output_type": "display_data"
    },
    {
     "data": {
      "text/html": [
       "<div>                            <div id=\"ac1456fc-37bb-4e30-bb58-b993ba6bc6ae\" class=\"plotly-graph-div\" style=\"height:525px; width:100%;\"></div>            <script type=\"text/javascript\">                require([\"plotly\"], function(Plotly) {                    window.PLOTLYENV=window.PLOTLYENV || {};                                    if (document.getElementById(\"ac1456fc-37bb-4e30-bb58-b993ba6bc6ae\")) {                    Plotly.newPlot(                        \"ac1456fc-37bb-4e30-bb58-b993ba6bc6ae\",                        [{\"alignmentgroup\":\"True\",\"hovertemplate\":\"x=%{x}\\u003cbr\\u003ey=%{y}\\u003cextra\\u003e\\u003c\\u002fextra\\u003e\",\"legendgroup\":\"\",\"marker\":{\"color\":\"BLUE\",\"pattern\":{\"shape\":\"\"}},\"name\":\"\",\"offsetgroup\":\"\",\"orientation\":\"v\",\"showlegend\":false,\"textposition\":\"auto\",\"x\":[\"TheGiftKart\",\"boAt\",\"Amazon\",\"Spigen\",\"Samsung\",\"ZEBRONICS\",\"Portronics\",\"HP\",\"AmazonBasics\",\"SanDisk\",\"Sounce\",\"Fire-Boltt\",\"Noise\",\"CEDO\",\"Pikkme\"],\"xaxis\":\"x\",\"y\":[271,239,230,203,141,137,128,125,116,103,98,90,90,83,81],\"yaxis\":\"y\",\"type\":\"bar\"}],                        {\"template\":{\"data\":{\"histogram2dcontour\":[{\"type\":\"histogram2dcontour\",\"colorbar\":{\"outlinewidth\":0,\"ticks\":\"\"},\"colorscale\":[[0.0,\"#0d0887\"],[0.1111111111111111,\"#46039f\"],[0.2222222222222222,\"#7201a8\"],[0.3333333333333333,\"#9c179e\"],[0.4444444444444444,\"#bd3786\"],[0.5555555555555556,\"#d8576b\"],[0.6666666666666666,\"#ed7953\"],[0.7777777777777778,\"#fb9f3a\"],[0.8888888888888888,\"#fdca26\"],[1.0,\"#f0f921\"]]}],\"choropleth\":[{\"type\":\"choropleth\",\"colorbar\":{\"outlinewidth\":0,\"ticks\":\"\"}}],\"histogram2d\":[{\"type\":\"histogram2d\",\"colorbar\":{\"outlinewidth\":0,\"ticks\":\"\"},\"colorscale\":[[0.0,\"#0d0887\"],[0.1111111111111111,\"#46039f\"],[0.2222222222222222,\"#7201a8\"],[0.3333333333333333,\"#9c179e\"],[0.4444444444444444,\"#bd3786\"],[0.5555555555555556,\"#d8576b\"],[0.6666666666666666,\"#ed7953\"],[0.7777777777777778,\"#fb9f3a\"],[0.8888888888888888,\"#fdca26\"],[1.0,\"#f0f921\"]]}],\"heatmap\":[{\"type\":\"heatmap\",\"colorbar\":{\"outlinewidth\":0,\"ticks\":\"\"},\"colorscale\":[[0.0,\"#0d0887\"],[0.1111111111111111,\"#46039f\"],[0.2222222222222222,\"#7201a8\"],[0.3333333333333333,\"#9c179e\"],[0.4444444444444444,\"#bd3786\"],[0.5555555555555556,\"#d8576b\"],[0.6666666666666666,\"#ed7953\"],[0.7777777777777778,\"#fb9f3a\"],[0.8888888888888888,\"#fdca26\"],[1.0,\"#f0f921\"]]}],\"heatmapgl\":[{\"type\":\"heatmapgl\",\"colorbar\":{\"outlinewidth\":0,\"ticks\":\"\"},\"colorscale\":[[0.0,\"#0d0887\"],[0.1111111111111111,\"#46039f\"],[0.2222222222222222,\"#7201a8\"],[0.3333333333333333,\"#9c179e\"],[0.4444444444444444,\"#bd3786\"],[0.5555555555555556,\"#d8576b\"],[0.6666666666666666,\"#ed7953\"],[0.7777777777777778,\"#fb9f3a\"],[0.8888888888888888,\"#fdca26\"],[1.0,\"#f0f921\"]]}],\"contourcarpet\":[{\"type\":\"contourcarpet\",\"colorbar\":{\"outlinewidth\":0,\"ticks\":\"\"}}],\"contour\":[{\"type\":\"contour\",\"colorbar\":{\"outlinewidth\":0,\"ticks\":\"\"},\"colorscale\":[[0.0,\"#0d0887\"],[0.1111111111111111,\"#46039f\"],[0.2222222222222222,\"#7201a8\"],[0.3333333333333333,\"#9c179e\"],[0.4444444444444444,\"#bd3786\"],[0.5555555555555556,\"#d8576b\"],[0.6666666666666666,\"#ed7953\"],[0.7777777777777778,\"#fb9f3a\"],[0.8888888888888888,\"#fdca26\"],[1.0,\"#f0f921\"]]}],\"surface\":[{\"type\":\"surface\",\"colorbar\":{\"outlinewidth\":0,\"ticks\":\"\"},\"colorscale\":[[0.0,\"#0d0887\"],[0.1111111111111111,\"#46039f\"],[0.2222222222222222,\"#7201a8\"],[0.3333333333333333,\"#9c179e\"],[0.4444444444444444,\"#bd3786\"],[0.5555555555555556,\"#d8576b\"],[0.6666666666666666,\"#ed7953\"],[0.7777777777777778,\"#fb9f3a\"],[0.8888888888888888,\"#fdca26\"],[1.0,\"#f0f921\"]]}],\"mesh3d\":[{\"type\":\"mesh3d\",\"colorbar\":{\"outlinewidth\":0,\"ticks\":\"\"}}],\"scatter\":[{\"fillpattern\":{\"fillmode\":\"overlay\",\"size\":10,\"solidity\":0.2},\"type\":\"scatter\"}],\"parcoords\":[{\"type\":\"parcoords\",\"line\":{\"colorbar\":{\"outlinewidth\":0,\"ticks\":\"\"}}}],\"scatterpolargl\":[{\"type\":\"scatterpolargl\",\"marker\":{\"colorbar\":{\"outlinewidth\":0,\"ticks\":\"\"}}}],\"bar\":[{\"error_x\":{\"color\":\"#2a3f5f\"},\"error_y\":{\"color\":\"#2a3f5f\"},\"marker\":{\"line\":{\"color\":\"#E5ECF6\",\"width\":0.5},\"pattern\":{\"fillmode\":\"overlay\",\"size\":10,\"solidity\":0.2}},\"type\":\"bar\"}],\"scattergeo\":[{\"type\":\"scattergeo\",\"marker\":{\"colorbar\":{\"outlinewidth\":0,\"ticks\":\"\"}}}],\"scatterpolar\":[{\"type\":\"scatterpolar\",\"marker\":{\"colorbar\":{\"outlinewidth\":0,\"ticks\":\"\"}}}],\"histogram\":[{\"marker\":{\"pattern\":{\"fillmode\":\"overlay\",\"size\":10,\"solidity\":0.2}},\"type\":\"histogram\"}],\"scattergl\":[{\"type\":\"scattergl\",\"marker\":{\"colorbar\":{\"outlinewidth\":0,\"ticks\":\"\"}}}],\"scatter3d\":[{\"type\":\"scatter3d\",\"line\":{\"colorbar\":{\"outlinewidth\":0,\"ticks\":\"\"}},\"marker\":{\"colorbar\":{\"outlinewidth\":0,\"ticks\":\"\"}}}],\"scattermapbox\":[{\"type\":\"scattermapbox\",\"marker\":{\"colorbar\":{\"outlinewidth\":0,\"ticks\":\"\"}}}],\"scatterternary\":[{\"type\":\"scatterternary\",\"marker\":{\"colorbar\":{\"outlinewidth\":0,\"ticks\":\"\"}}}],\"scattercarpet\":[{\"type\":\"scattercarpet\",\"marker\":{\"colorbar\":{\"outlinewidth\":0,\"ticks\":\"\"}}}],\"carpet\":[{\"aaxis\":{\"endlinecolor\":\"#2a3f5f\",\"gridcolor\":\"white\",\"linecolor\":\"white\",\"minorgridcolor\":\"white\",\"startlinecolor\":\"#2a3f5f\"},\"baxis\":{\"endlinecolor\":\"#2a3f5f\",\"gridcolor\":\"white\",\"linecolor\":\"white\",\"minorgridcolor\":\"white\",\"startlinecolor\":\"#2a3f5f\"},\"type\":\"carpet\"}],\"table\":[{\"cells\":{\"fill\":{\"color\":\"#EBF0F8\"},\"line\":{\"color\":\"white\"}},\"header\":{\"fill\":{\"color\":\"#C8D4E3\"},\"line\":{\"color\":\"white\"}},\"type\":\"table\"}],\"barpolar\":[{\"marker\":{\"line\":{\"color\":\"#E5ECF6\",\"width\":0.5},\"pattern\":{\"fillmode\":\"overlay\",\"size\":10,\"solidity\":0.2}},\"type\":\"barpolar\"}],\"pie\":[{\"automargin\":true,\"type\":\"pie\"}]},\"layout\":{\"autotypenumbers\":\"strict\",\"colorway\":[\"#636efa\",\"#EF553B\",\"#00cc96\",\"#ab63fa\",\"#FFA15A\",\"#19d3f3\",\"#FF6692\",\"#B6E880\",\"#FF97FF\",\"#FECB52\"],\"font\":{\"color\":\"#2a3f5f\"},\"hovermode\":\"closest\",\"hoverlabel\":{\"align\":\"left\"},\"paper_bgcolor\":\"white\",\"plot_bgcolor\":\"#E5ECF6\",\"polar\":{\"bgcolor\":\"#E5ECF6\",\"angularaxis\":{\"gridcolor\":\"white\",\"linecolor\":\"white\",\"ticks\":\"\"},\"radialaxis\":{\"gridcolor\":\"white\",\"linecolor\":\"white\",\"ticks\":\"\"}},\"ternary\":{\"bgcolor\":\"#E5ECF6\",\"aaxis\":{\"gridcolor\":\"white\",\"linecolor\":\"white\",\"ticks\":\"\"},\"baxis\":{\"gridcolor\":\"white\",\"linecolor\":\"white\",\"ticks\":\"\"},\"caxis\":{\"gridcolor\":\"white\",\"linecolor\":\"white\",\"ticks\":\"\"}},\"coloraxis\":{\"colorbar\":{\"outlinewidth\":0,\"ticks\":\"\"}},\"colorscale\":{\"sequential\":[[0.0,\"#0d0887\"],[0.1111111111111111,\"#46039f\"],[0.2222222222222222,\"#7201a8\"],[0.3333333333333333,\"#9c179e\"],[0.4444444444444444,\"#bd3786\"],[0.5555555555555556,\"#d8576b\"],[0.6666666666666666,\"#ed7953\"],[0.7777777777777778,\"#fb9f3a\"],[0.8888888888888888,\"#fdca26\"],[1.0,\"#f0f921\"]],\"sequentialminus\":[[0.0,\"#0d0887\"],[0.1111111111111111,\"#46039f\"],[0.2222222222222222,\"#7201a8\"],[0.3333333333333333,\"#9c179e\"],[0.4444444444444444,\"#bd3786\"],[0.5555555555555556,\"#d8576b\"],[0.6666666666666666,\"#ed7953\"],[0.7777777777777778,\"#fb9f3a\"],[0.8888888888888888,\"#fdca26\"],[1.0,\"#f0f921\"]],\"diverging\":[[0,\"#8e0152\"],[0.1,\"#c51b7d\"],[0.2,\"#de77ae\"],[0.3,\"#f1b6da\"],[0.4,\"#fde0ef\"],[0.5,\"#f7f7f7\"],[0.6,\"#e6f5d0\"],[0.7,\"#b8e186\"],[0.8,\"#7fbc41\"],[0.9,\"#4d9221\"],[1,\"#276419\"]]},\"xaxis\":{\"gridcolor\":\"white\",\"linecolor\":\"white\",\"ticks\":\"\",\"title\":{\"standoff\":15},\"zerolinecolor\":\"white\",\"automargin\":true,\"zerolinewidth\":2},\"yaxis\":{\"gridcolor\":\"white\",\"linecolor\":\"white\",\"ticks\":\"\",\"title\":{\"standoff\":15},\"zerolinecolor\":\"white\",\"automargin\":true,\"zerolinewidth\":2},\"scene\":{\"xaxis\":{\"backgroundcolor\":\"#E5ECF6\",\"gridcolor\":\"white\",\"linecolor\":\"white\",\"showbackground\":true,\"ticks\":\"\",\"zerolinecolor\":\"white\",\"gridwidth\":2},\"yaxis\":{\"backgroundcolor\":\"#E5ECF6\",\"gridcolor\":\"white\",\"linecolor\":\"white\",\"showbackground\":true,\"ticks\":\"\",\"zerolinecolor\":\"white\",\"gridwidth\":2},\"zaxis\":{\"backgroundcolor\":\"#E5ECF6\",\"gridcolor\":\"white\",\"linecolor\":\"white\",\"showbackground\":true,\"ticks\":\"\",\"zerolinecolor\":\"white\",\"gridwidth\":2}},\"shapedefaults\":{\"line\":{\"color\":\"#2a3f5f\"}},\"annotationdefaults\":{\"arrowcolor\":\"#2a3f5f\",\"arrowhead\":0,\"arrowwidth\":1},\"geo\":{\"bgcolor\":\"white\",\"landcolor\":\"#E5ECF6\",\"subunitcolor\":\"white\",\"showland\":true,\"showlakes\":true,\"lakecolor\":\"white\"},\"title\":{\"x\":0.05},\"mapbox\":{\"style\":\"light\"}}},\"xaxis\":{\"anchor\":\"y\",\"domain\":[0.0,1.0],\"title\":{\"text\":\"Name of The Brand\"}},\"yaxis\":{\"anchor\":\"x\",\"domain\":[0.0,1.0],\"title\":{\"text\":\"Count\"}},\"legend\":{\"tracegroupgap\":0},\"margin\":{\"t\":60},\"barmode\":\"relative\",\"plot_bgcolor\":\"WHITE\",\"title\":{\"text\":\"\\u003cb\\u003ePopular Electronics Brands\\u003c\\u002fb\\u003e\"}},                        {\"responsive\": true}                    ).then(function(){\n",
       "                            \n",
       "var gd = document.getElementById('ac1456fc-37bb-4e30-bb58-b993ba6bc6ae');\n",
       "var x = new MutationObserver(function (mutations, observer) {{\n",
       "        var display = window.getComputedStyle(gd).display;\n",
       "        if (!display || display === 'none') {{\n",
       "            console.log([gd, 'removed!']);\n",
       "            Plotly.purge(gd);\n",
       "            observer.disconnect();\n",
       "        }}\n",
       "}});\n",
       "\n",
       "// Listen for the removal of the full notebook cells\n",
       "var notebookContainer = gd.closest('#notebook-container');\n",
       "if (notebookContainer) {{\n",
       "    x.observe(notebookContainer, {childList: true});\n",
       "}}\n",
       "\n",
       "// Listen for the clearing of the current output cell\n",
       "var outputEl = gd.closest('.output');\n",
       "if (outputEl) {{\n",
       "    x.observe(outputEl, {childList: true});\n",
       "}}\n",
       "\n",
       "                        })                };                });            </script>        </div>"
      ]
     },
     "metadata": {},
     "output_type": "display_data"
    }
   ],
   "source": [
    "values=DS['manufacturer'].value_counts().keys().tolist()[:15]\n",
    "counts=DS['manufacturer'].value_counts().tolist()[:15]\n",
    "counts,values\n",
    "\n",
    "plt = px.bar(DS, x=values, y=counts, color_discrete_sequence=['BLUE']*len(DS))\n",
    "\n",
    "plt.update_layout(\n",
    "        plot_bgcolor='WHITE',\n",
    "        xaxis_title='Name of The Brand',\n",
    "        yaxis_title='Count',\n",
    "        title='<b>Popular Electronics Brands</b>'\n",
    ")\n",
    "\n",
    "plt.show()\n"
   ]
  },
  {
   "cell_type": "markdown",
   "id": "7fc3bc12",
   "metadata": {
    "papermill": {
     "duration": 0.014716,
     "end_time": "2024-01-01T13:05:06.244498",
     "exception": false,
     "start_time": "2024-01-01T13:05:06.229782",
     "status": "completed"
    },
    "tags": []
   },
   "source": [
    "**As We show above, 'TheGiftKart' is the most popular Electronics brand .**"
   ]
  },
  {
   "cell_type": "code",
   "execution_count": 24,
   "id": "fbcead1a",
   "metadata": {
    "execution": {
     "iopub.execute_input": "2024-01-01T13:05:06.271940Z",
     "iopub.status.busy": "2024-01-01T13:05:06.271422Z",
     "iopub.status.idle": "2024-01-01T13:05:06.303376Z",
     "shell.execute_reply": "2024-01-01T13:05:06.302217Z"
    },
    "papermill": {
     "duration": 0.048482,
     "end_time": "2024-01-01T13:05:06.306015",
     "exception": false,
     "start_time": "2024-01-01T13:05:06.257533",
     "status": "completed"
    },
    "tags": []
   },
   "outputs": [
    {
     "data": {
      "text/html": [
       "<div>\n",
       "<style scoped>\n",
       "    .dataframe tbody tr th:only-of-type {\n",
       "        vertical-align: middle;\n",
       "    }\n",
       "\n",
       "    .dataframe tbody tr th {\n",
       "        vertical-align: top;\n",
       "    }\n",
       "\n",
       "    .dataframe thead th {\n",
       "        text-align: right;\n",
       "    }\n",
       "</style>\n",
       "<table border=\"1\" class=\"dataframe\">\n",
       "  <thead>\n",
       "    <tr style=\"text-align: right;\">\n",
       "      <th></th>\n",
       "      <th>name</th>\n",
       "      <th>manufacturer</th>\n",
       "      <th>main_category</th>\n",
       "      <th>sub_category</th>\n",
       "      <th>image</th>\n",
       "      <th>link</th>\n",
       "      <th>ratings</th>\n",
       "      <th>no_of_ratings</th>\n",
       "      <th>discount_price</th>\n",
       "      <th>actual_price</th>\n",
       "      <th>correct_no_of_ratings</th>\n",
       "      <th>discount</th>\n",
       "      <th>discount_percentage</th>\n",
       "    </tr>\n",
       "  </thead>\n",
       "  <tbody>\n",
       "    <tr>\n",
       "      <th>4431</th>\n",
       "      <td>HP Laserjet Pro M126nw Multi-Function Monochro...</td>\n",
       "      <td>HP</td>\n",
       "      <td>tv, audio &amp; cameras</td>\n",
       "      <td>All Electronics</td>\n",
       "      <td>https://m.media-amazon.com/images/I/61d9Rb8EDZ...</td>\n",
       "      <td>https://www.amazon.in/HP-LaserJet-M126nw-Multi...</td>\n",
       "      <td>4.2</td>\n",
       "      <td>5256.0</td>\n",
       "      <td>21328.0</td>\n",
       "      <td>21328.88</td>\n",
       "      <td>True</td>\n",
       "      <td>0.88</td>\n",
       "      <td>1.0</td>\n",
       "    </tr>\n",
       "  </tbody>\n",
       "</table>\n",
       "</div>"
      ],
      "text/plain": [
       "                                                   name manufacturer  \\\n",
       "4431  HP Laserjet Pro M126nw Multi-Function Monochro...           HP   \n",
       "\n",
       "            main_category     sub_category  \\\n",
       "4431  tv, audio & cameras  All Electronics   \n",
       "\n",
       "                                                  image  \\\n",
       "4431  https://m.media-amazon.com/images/I/61d9Rb8EDZ...   \n",
       "\n",
       "                                                   link  ratings  \\\n",
       "4431  https://www.amazon.in/HP-LaserJet-M126nw-Multi...      4.2   \n",
       "\n",
       "      no_of_ratings  discount_price  actual_price  correct_no_of_ratings  \\\n",
       "4431         5256.0         21328.0      21328.88                   True   \n",
       "\n",
       "      discount  discount_percentage  \n",
       "4431      0.88                  1.0  "
      ]
     },
     "execution_count": 24,
     "metadata": {},
     "output_type": "execute_result"
    }
   ],
   "source": [
    "#check minimum discount price row\n",
    "DS[DS['discount']==DS['discount'].min()]"
   ]
  },
  {
   "cell_type": "code",
   "execution_count": 25,
   "id": "5bb5f342",
   "metadata": {
    "execution": {
     "iopub.execute_input": "2024-01-01T13:05:06.335384Z",
     "iopub.status.busy": "2024-01-01T13:05:06.334527Z",
     "iopub.status.idle": "2024-01-01T13:05:06.353268Z",
     "shell.execute_reply": "2024-01-01T13:05:06.351997Z"
    },
    "papermill": {
     "duration": 0.036771,
     "end_time": "2024-01-01T13:05:06.355850",
     "exception": false,
     "start_time": "2024-01-01T13:05:06.319079",
     "status": "completed"
    },
    "tags": []
   },
   "outputs": [
    {
     "data": {
      "text/html": [
       "<div>\n",
       "<style scoped>\n",
       "    .dataframe tbody tr th:only-of-type {\n",
       "        vertical-align: middle;\n",
       "    }\n",
       "\n",
       "    .dataframe tbody tr th {\n",
       "        vertical-align: top;\n",
       "    }\n",
       "\n",
       "    .dataframe thead th {\n",
       "        text-align: right;\n",
       "    }\n",
       "</style>\n",
       "<table border=\"1\" class=\"dataframe\">\n",
       "  <thead>\n",
       "    <tr style=\"text-align: right;\">\n",
       "      <th></th>\n",
       "      <th>name</th>\n",
       "      <th>manufacturer</th>\n",
       "      <th>main_category</th>\n",
       "      <th>sub_category</th>\n",
       "      <th>image</th>\n",
       "      <th>link</th>\n",
       "      <th>ratings</th>\n",
       "      <th>no_of_ratings</th>\n",
       "      <th>discount_price</th>\n",
       "      <th>actual_price</th>\n",
       "      <th>correct_no_of_ratings</th>\n",
       "      <th>discount</th>\n",
       "      <th>discount_percentage</th>\n",
       "    </tr>\n",
       "  </thead>\n",
       "  <tbody>\n",
       "    <tr>\n",
       "      <th>6027</th>\n",
       "      <td>Samsung Galaxy S23 Ultra 5G (Green, 12GB, 512G...</td>\n",
       "      <td>Samsung</td>\n",
       "      <td>tv, audio &amp; cameras</td>\n",
       "      <td>All Electronics</td>\n",
       "      <td>https://m.media-amazon.com/images/I/61VfL-aiTo...</td>\n",
       "      <td>https://www.amazon.in/Samsung-Galaxy-Ultra-Gre...</td>\n",
       "      <td>4.4</td>\n",
       "      <td>91.0</td>\n",
       "      <td>134999.0</td>\n",
       "      <td>161999.0</td>\n",
       "      <td>True</td>\n",
       "      <td>27000.0</td>\n",
       "      <td>0.83</td>\n",
       "    </tr>\n",
       "  </tbody>\n",
       "</table>\n",
       "</div>"
      ],
      "text/plain": [
       "                                                   name manufacturer  \\\n",
       "6027  Samsung Galaxy S23 Ultra 5G (Green, 12GB, 512G...      Samsung   \n",
       "\n",
       "            main_category     sub_category  \\\n",
       "6027  tv, audio & cameras  All Electronics   \n",
       "\n",
       "                                                  image  \\\n",
       "6027  https://m.media-amazon.com/images/I/61VfL-aiTo...   \n",
       "\n",
       "                                                   link  ratings  \\\n",
       "6027  https://www.amazon.in/Samsung-Galaxy-Ultra-Gre...      4.4   \n",
       "\n",
       "      no_of_ratings  discount_price  actual_price  correct_no_of_ratings  \\\n",
       "6027           91.0        134999.0      161999.0                   True   \n",
       "\n",
       "      discount  discount_percentage  \n",
       "6027   27000.0                 0.83  "
      ]
     },
     "execution_count": 25,
     "metadata": {},
     "output_type": "execute_result"
    }
   ],
   "source": [
    "#check maximum actual_price\n",
    "DS[DS['actual_price']==DS['actual_price'].max()]"
   ]
  },
  {
   "cell_type": "code",
   "execution_count": 26,
   "id": "d4bf05fc",
   "metadata": {
    "execution": {
     "iopub.execute_input": "2024-01-01T13:05:06.388861Z",
     "iopub.status.busy": "2024-01-01T13:05:06.388002Z",
     "iopub.status.idle": "2024-01-01T13:05:06.401724Z",
     "shell.execute_reply": "2024-01-01T13:05:06.400444Z"
    },
    "papermill": {
     "duration": 0.035491,
     "end_time": "2024-01-01T13:05:06.404493",
     "exception": false,
     "start_time": "2024-01-01T13:05:06.369002",
     "status": "completed"
    },
    "tags": []
   },
   "outputs": [
    {
     "name": "stdout",
     "output_type": "stream",
     "text": [
      "manufacturer\n",
      "XGMO®360             5.000000\n",
      "MKY                  5.000000\n",
      "HARRY                5.000000\n",
      "Yorten               5.000000\n",
      "USB-C                5.000000\n",
      "TYCON                5.000000\n",
      "A3sprime             5.000000\n",
      "Marcelle             5.000000\n",
      "Pecan™               5.000000\n",
      "Magnetic             5.000000\n",
      "ORUM                 5.000000\n",
      "Uvasaggaharam        5.000000\n",
      "TOPRONICS            5.000000\n",
      "MOVCTON              5.000000\n",
      "Noise_Replacement    5.000000\n",
      "18                   5.000000\n",
      "KXXO®                5.000000\n",
      "LTZ                  5.000000\n",
      "LKMO                 5.000000\n",
      "Squalo               5.000000\n",
      "Virtutron            5.000000\n",
      "B                    5.000000\n",
      "KimTok               5.000000\n",
      "Artikel              4.900000\n",
      "Vichaxan             4.900000\n",
      "JIYAMART             4.800000\n",
      "inari                4.800000\n",
      "BARROT               4.800000\n",
      "Mavro                4.750000\n",
      "Rylan                4.700000\n",
      "DIZORO               4.700000\n",
      "ProTVSolutions       4.700000\n",
      "AFPIN                4.700000\n",
      "PxIn                 4.700000\n",
      "TOUARETAILS          4.700000\n",
      "G.SKILL              4.700000\n",
      "Klenzmo              4.700000\n",
      "Clapone              4.700000\n",
      "Trendy               4.700000\n",
      "CRYSTALOPRO          4.700000\n",
      "【2                   4.700000\n",
      "UrbanMade            4.700000\n",
      "20pcs                4.666667\n",
      "CodersParadise       4.650000\n",
      "Episkey              4.650000\n",
      "SD                   4.600000\n",
      "Post-it              4.600000\n",
      "ARDAKI               4.600000\n",
      "LIMESHOT             4.600000\n",
      "Qianlink             4.600000\n",
      "Name: ratings, dtype: float64\n"
     ]
    }
   ],
   "source": [
    "#sort based on rating\n",
    "manufacturing_rating=DS.groupby('manufacturer')['ratings'].mean()\n",
    "top_manufacturer=manufacturing_rating.sort_values(ascending=False).head(50)\n",
    "print(top_manufacturer)"
   ]
  },
  {
   "cell_type": "code",
   "execution_count": 27,
   "id": "58a2ce82",
   "metadata": {
    "execution": {
     "iopub.execute_input": "2024-01-01T13:05:06.440599Z",
     "iopub.status.busy": "2024-01-01T13:05:06.440048Z",
     "iopub.status.idle": "2024-01-01T13:05:06.461540Z",
     "shell.execute_reply": "2024-01-01T13:05:06.460216Z"
    },
    "papermill": {
     "duration": 0.045096,
     "end_time": "2024-01-01T13:05:06.465255",
     "exception": false,
     "start_time": "2024-01-01T13:05:06.420159",
     "status": "completed"
    },
    "tags": []
   },
   "outputs": [
    {
     "data": {
      "text/html": [
       "<div>\n",
       "<style scoped>\n",
       "    .dataframe tbody tr th:only-of-type {\n",
       "        vertical-align: middle;\n",
       "    }\n",
       "\n",
       "    .dataframe tbody tr th {\n",
       "        vertical-align: top;\n",
       "    }\n",
       "\n",
       "    .dataframe thead th {\n",
       "        text-align: right;\n",
       "    }\n",
       "</style>\n",
       "<table border=\"1\" class=\"dataframe\">\n",
       "  <thead>\n",
       "    <tr style=\"text-align: right;\">\n",
       "      <th></th>\n",
       "      <th>manufacturer</th>\n",
       "      <th>ratings</th>\n",
       "    </tr>\n",
       "  </thead>\n",
       "  <tbody>\n",
       "    <tr>\n",
       "      <th>0</th>\n",
       "      <td>Redmi</td>\n",
       "      <td>4.0</td>\n",
       "    </tr>\n",
       "    <tr>\n",
       "      <th>1</th>\n",
       "      <td>OnePlus</td>\n",
       "      <td>4.3</td>\n",
       "    </tr>\n",
       "    <tr>\n",
       "      <th>2</th>\n",
       "      <td>OnePlus</td>\n",
       "      <td>4.2</td>\n",
       "    </tr>\n",
       "    <tr>\n",
       "      <th>3</th>\n",
       "      <td>Samsung</td>\n",
       "      <td>4.1</td>\n",
       "    </tr>\n",
       "    <tr>\n",
       "      <th>4</th>\n",
       "      <td>OnePlus</td>\n",
       "      <td>4.3</td>\n",
       "    </tr>\n",
       "    <tr>\n",
       "      <th>...</th>\n",
       "      <td>...</td>\n",
       "      <td>...</td>\n",
       "    </tr>\n",
       "    <tr>\n",
       "      <th>9595</th>\n",
       "      <td>PALAY®</td>\n",
       "      <td>4.1</td>\n",
       "    </tr>\n",
       "    <tr>\n",
       "      <th>9596</th>\n",
       "      <td>MOCA</td>\n",
       "      <td>4.2</td>\n",
       "    </tr>\n",
       "    <tr>\n",
       "      <th>9597</th>\n",
       "      <td>ZEBRONICS</td>\n",
       "      <td>3.5</td>\n",
       "    </tr>\n",
       "    <tr>\n",
       "      <th>9598</th>\n",
       "      <td>LINQS®</td>\n",
       "      <td>3.6</td>\n",
       "    </tr>\n",
       "    <tr>\n",
       "      <th>9599</th>\n",
       "      <td>Pragati</td>\n",
       "      <td>4.5</td>\n",
       "    </tr>\n",
       "  </tbody>\n",
       "</table>\n",
       "<p>9002 rows × 2 columns</p>\n",
       "</div>"
      ],
      "text/plain": [
       "     manufacturer  ratings\n",
       "0           Redmi      4.0\n",
       "1         OnePlus      4.3\n",
       "2         OnePlus      4.2\n",
       "3         Samsung      4.1\n",
       "4         OnePlus      4.3\n",
       "...           ...      ...\n",
       "9595       PALAY®      4.1\n",
       "9596         MOCA      4.2\n",
       "9597    ZEBRONICS      3.5\n",
       "9598       LINQS®      3.6\n",
       "9599      Pragati      4.5\n",
       "\n",
       "[9002 rows x 2 columns]"
      ]
     },
     "execution_count": 27,
     "metadata": {},
     "output_type": "execute_result"
    }
   ],
   "source": [
    "# new DATAFRAME with only manufacturer and ratings columns\n",
    "sel_cols=['manufacturer','ratings']\n",
    "new_ds=DS[sel_cols]\n",
    "new_ds\n"
   ]
  },
  {
   "cell_type": "code",
   "execution_count": 28,
   "id": "e716bf3e",
   "metadata": {
    "execution": {
     "iopub.execute_input": "2024-01-01T13:05:06.495578Z",
     "iopub.status.busy": "2024-01-01T13:05:06.494343Z",
     "iopub.status.idle": "2024-01-01T13:05:06.523329Z",
     "shell.execute_reply": "2024-01-01T13:05:06.521942Z"
    },
    "papermill": {
     "duration": 0.048255,
     "end_time": "2024-01-01T13:05:06.527087",
     "exception": false,
     "start_time": "2024-01-01T13:05:06.478832",
     "status": "completed"
    },
    "tags": []
   },
   "outputs": [
    {
     "data": {
      "text/html": [
       "<div>\n",
       "<style scoped>\n",
       "    .dataframe tbody tr th:only-of-type {\n",
       "        vertical-align: middle;\n",
       "    }\n",
       "\n",
       "    .dataframe tbody tr th {\n",
       "        vertical-align: top;\n",
       "    }\n",
       "\n",
       "    .dataframe thead th {\n",
       "        text-align: right;\n",
       "    }\n",
       "</style>\n",
       "<table border=\"1\" class=\"dataframe\">\n",
       "  <thead>\n",
       "    <tr style=\"text-align: right;\">\n",
       "      <th></th>\n",
       "      <th>ratings</th>\n",
       "    </tr>\n",
       "    <tr>\n",
       "      <th>manufacturer</th>\n",
       "      <th></th>\n",
       "    </tr>\n",
       "  </thead>\n",
       "  <tbody>\n",
       "    <tr>\n",
       "      <th>(Renewed)</th>\n",
       "      <td>3.597222</td>\n",
       "    </tr>\n",
       "    <tr>\n",
       "      <th>1</th>\n",
       "      <td>4.100000</td>\n",
       "    </tr>\n",
       "    <tr>\n",
       "      <th>10W</th>\n",
       "      <td>3.700000</td>\n",
       "    </tr>\n",
       "    <tr>\n",
       "      <th>10WeRun</th>\n",
       "      <td>4.050000</td>\n",
       "    </tr>\n",
       "    <tr>\n",
       "      <th>18</th>\n",
       "      <td>5.000000</td>\n",
       "    </tr>\n",
       "    <tr>\n",
       "      <th>...</th>\n",
       "      <td>...</td>\n",
       "    </tr>\n",
       "    <tr>\n",
       "      <th>worldmacs</th>\n",
       "      <td>4.200000</td>\n",
       "    </tr>\n",
       "    <tr>\n",
       "      <th>{2022</th>\n",
       "      <td>3.100000</td>\n",
       "    </tr>\n",
       "    <tr>\n",
       "      <th>‎GIZGA</th>\n",
       "      <td>2.500000</td>\n",
       "    </tr>\n",
       "    <tr>\n",
       "      <th>【2</th>\n",
       "      <td>4.700000</td>\n",
       "    </tr>\n",
       "    <tr>\n",
       "      <th>𝟐𝟎𝟐𝟐</th>\n",
       "      <td>3.200000</td>\n",
       "    </tr>\n",
       "  </tbody>\n",
       "</table>\n",
       "<p>1758 rows × 1 columns</p>\n",
       "</div>"
      ],
      "text/plain": [
       "               ratings\n",
       "manufacturer          \n",
       "(Renewed)     3.597222\n",
       "1             4.100000\n",
       "10W           3.700000\n",
       "10WeRun       4.050000\n",
       "18            5.000000\n",
       "...                ...\n",
       "worldmacs     4.200000\n",
       "{2022         3.100000\n",
       "‎GIZGA        2.500000\n",
       "【2            4.700000\n",
       "𝟐𝟎𝟐𝟐          3.200000\n",
       "\n",
       "[1758 rows x 1 columns]"
      ]
     },
     "execution_count": 28,
     "metadata": {},
     "output_type": "execute_result"
    }
   ],
   "source": [
    "# sorting manufacturers with avrage ratings\n",
    "new_ds1=new_ds.groupby('manufacturer')\n",
    "new_ds1.mean()\n",
    "\n"
   ]
  },
  {
   "cell_type": "code",
   "execution_count": 29,
   "id": "ee67c73b",
   "metadata": {
    "execution": {
     "iopub.execute_input": "2024-01-01T13:05:06.557929Z",
     "iopub.status.busy": "2024-01-01T13:05:06.557398Z",
     "iopub.status.idle": "2024-01-01T13:05:06.577543Z",
     "shell.execute_reply": "2024-01-01T13:05:06.576210Z"
    },
    "papermill": {
     "duration": 0.037753,
     "end_time": "2024-01-01T13:05:06.579836",
     "exception": false,
     "start_time": "2024-01-01T13:05:06.542083",
     "status": "completed"
    },
    "tags": []
   },
   "outputs": [
    {
     "name": "stdout",
     "output_type": "stream",
     "text": [
      "      manufacturer  ratings\n",
      "3          Samsung      4.1\n",
      "6             boAt      3.9\n",
      "8       Fire-Boltt      4.3\n",
      "9          Samsung      4.1\n",
      "13            boAt      3.8\n",
      "...            ...      ...\n",
      "9568            HP      4.2\n",
      "9576  AmazonBasics      4.1\n",
      "9578   TheGiftKart      4.2\n",
      "9591        Spigen      4.6\n",
      "9597     ZEBRONICS      3.5\n",
      "\n",
      "[2135 rows x 2 columns]\n"
     ]
    },
    {
     "data": {
      "text/plain": [
       "array(['Samsung', 'boAt', 'Fire-Boltt', 'SanDisk', 'Portronics',\n",
       "       'ZEBRONICS', 'Noise', 'HP', 'Sounce', 'AmazonBasics', 'Amazon',\n",
       "       'Spigen', 'TheGiftKart', 'Pikkme', 'CEDO'], dtype=object)"
      ]
     },
     "execution_count": 29,
     "metadata": {},
     "output_type": "execute_result"
    }
   ],
   "source": [
    "# filtering manufacturer name\n",
    "manufacturer_name=values\n",
    "filtered_ds=new_ds[new_ds['manufacturer'].isin(manufacturer_name)]\n",
    "\n",
    "print(filtered_ds)\n",
    "filtered_ds['manufacturer'].unique()\n"
   ]
  },
  {
   "cell_type": "code",
   "execution_count": 30,
   "id": "97ad3bbb",
   "metadata": {
    "execution": {
     "iopub.execute_input": "2024-01-01T13:05:06.614147Z",
     "iopub.status.busy": "2024-01-01T13:05:06.612859Z",
     "iopub.status.idle": "2024-01-01T13:05:06.627525Z",
     "shell.execute_reply": "2024-01-01T13:05:06.626301Z"
    },
    "papermill": {
     "duration": 0.036063,
     "end_time": "2024-01-01T13:05:06.632024",
     "exception": false,
     "start_time": "2024-01-01T13:05:06.595961",
     "status": "completed"
    },
    "tags": []
   },
   "outputs": [
    {
     "data": {
      "text/html": [
       "<div>\n",
       "<style scoped>\n",
       "    .dataframe tbody tr th:only-of-type {\n",
       "        vertical-align: middle;\n",
       "    }\n",
       "\n",
       "    .dataframe tbody tr th {\n",
       "        vertical-align: top;\n",
       "    }\n",
       "\n",
       "    .dataframe thead th {\n",
       "        text-align: right;\n",
       "    }\n",
       "</style>\n",
       "<table border=\"1\" class=\"dataframe\">\n",
       "  <thead>\n",
       "    <tr style=\"text-align: right;\">\n",
       "      <th></th>\n",
       "      <th>ratings</th>\n",
       "    </tr>\n",
       "    <tr>\n",
       "      <th>manufacturer</th>\n",
       "      <th></th>\n",
       "    </tr>\n",
       "  </thead>\n",
       "  <tbody>\n",
       "    <tr>\n",
       "      <th>Amazon</th>\n",
       "      <td>4.026087</td>\n",
       "    </tr>\n",
       "    <tr>\n",
       "      <th>AmazonBasics</th>\n",
       "      <td>4.156034</td>\n",
       "    </tr>\n",
       "    <tr>\n",
       "      <th>CEDO</th>\n",
       "      <td>4.085542</td>\n",
       "    </tr>\n",
       "    <tr>\n",
       "      <th>Fire-Boltt</th>\n",
       "      <td>4.166667</td>\n",
       "    </tr>\n",
       "    <tr>\n",
       "      <th>HP</th>\n",
       "      <td>4.016000</td>\n",
       "    </tr>\n",
       "    <tr>\n",
       "      <th>Noise</th>\n",
       "      <td>3.904444</td>\n",
       "    </tr>\n",
       "    <tr>\n",
       "      <th>Pikkme</th>\n",
       "      <td>4.101235</td>\n",
       "    </tr>\n",
       "    <tr>\n",
       "      <th>Portronics</th>\n",
       "      <td>4.067188</td>\n",
       "    </tr>\n",
       "    <tr>\n",
       "      <th>Samsung</th>\n",
       "      <td>4.164539</td>\n",
       "    </tr>\n",
       "    <tr>\n",
       "      <th>SanDisk</th>\n",
       "      <td>4.337864</td>\n",
       "    </tr>\n",
       "    <tr>\n",
       "      <th>Sounce</th>\n",
       "      <td>4.028571</td>\n",
       "    </tr>\n",
       "    <tr>\n",
       "      <th>Spigen</th>\n",
       "      <td>4.309852</td>\n",
       "    </tr>\n",
       "    <tr>\n",
       "      <th>TheGiftKart</th>\n",
       "      <td>4.323985</td>\n",
       "    </tr>\n",
       "    <tr>\n",
       "      <th>ZEBRONICS</th>\n",
       "      <td>3.883212</td>\n",
       "    </tr>\n",
       "    <tr>\n",
       "      <th>boAt</th>\n",
       "      <td>4.026360</td>\n",
       "    </tr>\n",
       "  </tbody>\n",
       "</table>\n",
       "</div>"
      ],
      "text/plain": [
       "               ratings\n",
       "manufacturer          \n",
       "Amazon        4.026087\n",
       "AmazonBasics  4.156034\n",
       "CEDO          4.085542\n",
       "Fire-Boltt    4.166667\n",
       "HP            4.016000\n",
       "Noise         3.904444\n",
       "Pikkme        4.101235\n",
       "Portronics    4.067188\n",
       "Samsung       4.164539\n",
       "SanDisk       4.337864\n",
       "Sounce        4.028571\n",
       "Spigen        4.309852\n",
       "TheGiftKart   4.323985\n",
       "ZEBRONICS     3.883212\n",
       "boAt          4.026360"
      ]
     },
     "execution_count": 30,
     "metadata": {},
     "output_type": "execute_result"
    }
   ],
   "source": [
    "#check mean of top manufacturer ratings\n",
    "new_ds1=filtered_ds.groupby('manufacturer')\n",
    "new_ds1.mean()"
   ]
  },
  {
   "cell_type": "markdown",
   "id": "a89149f0",
   "metadata": {
    "papermill": {
     "duration": 0.014701,
     "end_time": "2024-01-01T13:05:06.660721",
     "exception": false,
     "start_time": "2024-01-01T13:05:06.646020",
     "status": "completed"
    },
    "tags": []
   },
   "source": [
    "# Conclusion:\n",
    "Based on the analysis of Electronics sales dataset, some of the key observations shown below:\n",
    "Your analysis of the Electronics sales dataset highlights several key insights:\n",
    "\n",
    "1. **Customer Ratings Reliability:** An impressive 98.77% of customers have given an average rating of 4.0, indicating the authenticity of the received ratings. This suggests genuine customer feedback, devoid of falsification.\n",
    "\n",
    "2. **Top Manufacturers' Ratings:** Among the top 15 manufacturers, products demonstrate favorable average ratings, hovering around 4.2. This trend underscores a positive customer sentiment towards these manufacturers, indicating consistently satisfying experiences.\n",
    "\n",
    "3. **Popularity vs. Ratings:** High ratings for popular products signify a customer inclination towards well-established brands. However, a crucial revelation emerges: while popular products often receive high ratings, lesser-known manufacturers also produce highly rated products. This indicates that quality isn't solely tied to brand popularity.\n",
    "\n",
    "In summary, the analysis reaffirms the reliability of customer ratings for Electronics products. It emphasizes the prevalence of positive ratings among popular items but underscores the presence of highly rated products from both renowned and less familiar brands. This insight encourages a holistic consideration of various manufacturers, ensuring access to quality products across diverse brand landscapes."
   ]
  }
 ],
 "metadata": {
  "kaggle": {
   "accelerator": "none",
   "dataSources": [
    {
     "datasetId": 3020336,
     "sourceId": 5239462,
     "sourceType": "datasetVersion"
    }
   ],
   "dockerImageVersionId": 30626,
   "isGpuEnabled": false,
   "isInternetEnabled": true,
   "language": "python",
   "sourceType": "notebook"
  },
  "kernelspec": {
   "display_name": "Python 3",
   "language": "python",
   "name": "python3"
  },
  "language_info": {
   "codemirror_mode": {
    "name": "ipython",
    "version": 3
   },
   "file_extension": ".py",
   "mimetype": "text/x-python",
   "name": "python",
   "nbconvert_exporter": "python",
   "pygments_lexer": "ipython3",
   "version": "3.10.12"
  },
  "papermill": {
   "default_parameters": {},
   "duration": 11.195243,
   "end_time": "2024-01-01T13:05:07.496672",
   "environment_variables": {},
   "exception": null,
   "input_path": "__notebook__.ipynb",
   "output_path": "__notebook__.ipynb",
   "parameters": {},
   "start_time": "2024-01-01T13:04:56.301429",
   "version": "2.4.0"
  }
 },
 "nbformat": 4,
 "nbformat_minor": 5
}
